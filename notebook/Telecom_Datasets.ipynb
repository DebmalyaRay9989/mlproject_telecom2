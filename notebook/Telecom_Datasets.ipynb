{
  "cells": [
    {
      "cell_type": "code",
      "execution_count": 1,
      "metadata": {
        "id": "_f4JQXEIO_6W"
      },
      "outputs": [],
      "source": [
        "### Telecom Dataset"
      ]
    },
    {
      "cell_type": "code",
      "execution_count": 2,
      "metadata": {
        "id": "0v1BfPbXPQ1o"
      },
      "outputs": [],
      "source": [
        "###!mkdir ~/.kaggle"
      ]
    },
    {
      "cell_type": "code",
      "execution_count": 3,
      "metadata": {
        "id": "Ry4XYrEjPQ_-"
      },
      "outputs": [],
      "source": [
        "###!cp /kaggle.json ~/.kaggle/"
      ]
    },
    {
      "cell_type": "code",
      "execution_count": 4,
      "metadata": {
        "id": "2VRqjNeKPRDf"
      },
      "outputs": [],
      "source": [
        "####!chmod 600 ~/.kaggle/kaggle.json"
      ]
    },
    {
      "cell_type": "code",
      "execution_count": 5,
      "metadata": {
        "id": "0bFt9HrNPRGU"
      },
      "outputs": [],
      "source": [
        "###! pip install kaggle"
      ]
    },
    {
      "cell_type": "code",
      "execution_count": 6,
      "metadata": {
        "id": "UuXV5QyEPRJB"
      },
      "outputs": [],
      "source": [
        "##!kaggle datasets download -d jazidesigns/telecom-dataset"
      ]
    },
    {
      "cell_type": "code",
      "execution_count": 7,
      "metadata": {
        "id": "Nv5u6OLgPRLg"
      },
      "outputs": [],
      "source": [
        "### ! unzip /content/telecom-dataset.zip"
      ]
    },
    {
      "cell_type": "code",
      "execution_count": 8,
      "metadata": {
        "id": "A-wPjq8XPROc"
      },
      "outputs": [],
      "source": [
        "# Suppressing Warnings\n",
        "import warnings\n",
        "warnings.filterwarnings('ignore')"
      ]
    },
    {
      "cell_type": "code",
      "execution_count": 9,
      "metadata": {
        "id": "v3TnBu2SX51L"
      },
      "outputs": [],
      "source": [
        "import pandas as pd\n",
        "import numpy as np\n",
        "import matplotlib.pyplot as plt"
      ]
    },
    {
      "cell_type": "code",
      "execution_count": 10,
      "metadata": {
        "colab": {
          "base_uri": "https://localhost:8080/",
          "height": 338
        },
        "id": "TigPkjbCXTgl",
        "outputId": "8a2ad896-6589-40dd-87db-e551c9fbc068"
      },
      "outputs": [
        {
          "data": {
            "text/html": [
              "\n",
              "\n",
              "  <div id=\"df-d00d306b-963c-43a4-b370-8d43f1d4f9d6\">\n",
              "    <div class=\"colab-df-container\">\n",
              "      <div>\n",
              "<style scoped>\n",
              "    .dataframe tbody tr th:only-of-type {\n",
              "        vertical-align: middle;\n",
              "    }\n",
              "\n",
              "    .dataframe tbody tr th {\n",
              "        vertical-align: top;\n",
              "    }\n",
              "\n",
              "    .dataframe thead th {\n",
              "        text-align: right;\n",
              "    }\n",
              "</style>\n",
              "<table border=\"1\" class=\"dataframe\">\n",
              "  <thead>\n",
              "    <tr style=\"text-align: right;\">\n",
              "      <th></th>\n",
              "      <th>customerID</th>\n",
              "      <th>gender</th>\n",
              "      <th>SeniorCitizen</th>\n",
              "      <th>Partner</th>\n",
              "      <th>Dependents</th>\n",
              "      <th>tenure</th>\n",
              "      <th>PhoneService</th>\n",
              "      <th>MultipleLines</th>\n",
              "      <th>InternetService</th>\n",
              "      <th>OnlineSecurity</th>\n",
              "      <th>...</th>\n",
              "      <th>DeviceProtection</th>\n",
              "      <th>TechSupport</th>\n",
              "      <th>StreamingTV</th>\n",
              "      <th>StreamingMovies</th>\n",
              "      <th>Contract</th>\n",
              "      <th>PaperlessBilling</th>\n",
              "      <th>PaymentMethod</th>\n",
              "      <th>MonthlyCharges</th>\n",
              "      <th>TotalCharges</th>\n",
              "      <th>Churn</th>\n",
              "    </tr>\n",
              "  </thead>\n",
              "  <tbody>\n",
              "    <tr>\n",
              "      <th>0</th>\n",
              "      <td>7590-VHVEG</td>\n",
              "      <td>Female</td>\n",
              "      <td>0</td>\n",
              "      <td>Yes</td>\n",
              "      <td>No</td>\n",
              "      <td>1</td>\n",
              "      <td>No</td>\n",
              "      <td>No phone service</td>\n",
              "      <td>DSL</td>\n",
              "      <td>No</td>\n",
              "      <td>...</td>\n",
              "      <td>No</td>\n",
              "      <td>No</td>\n",
              "      <td>No</td>\n",
              "      <td>No</td>\n",
              "      <td>Month-to-month</td>\n",
              "      <td>Yes</td>\n",
              "      <td>Electronic check</td>\n",
              "      <td>29.85</td>\n",
              "      <td>29.85</td>\n",
              "      <td>No</td>\n",
              "    </tr>\n",
              "    <tr>\n",
              "      <th>1</th>\n",
              "      <td>5575-GNVDE</td>\n",
              "      <td>Male</td>\n",
              "      <td>0</td>\n",
              "      <td>No</td>\n",
              "      <td>No</td>\n",
              "      <td>34</td>\n",
              "      <td>Yes</td>\n",
              "      <td>No</td>\n",
              "      <td>DSL</td>\n",
              "      <td>Yes</td>\n",
              "      <td>...</td>\n",
              "      <td>Yes</td>\n",
              "      <td>No</td>\n",
              "      <td>No</td>\n",
              "      <td>No</td>\n",
              "      <td>One year</td>\n",
              "      <td>No</td>\n",
              "      <td>Mailed check</td>\n",
              "      <td>56.95</td>\n",
              "      <td>1889.5</td>\n",
              "      <td>No</td>\n",
              "    </tr>\n",
              "    <tr>\n",
              "      <th>2</th>\n",
              "      <td>3668-QPYBK</td>\n",
              "      <td>Male</td>\n",
              "      <td>0</td>\n",
              "      <td>No</td>\n",
              "      <td>No</td>\n",
              "      <td>2</td>\n",
              "      <td>Yes</td>\n",
              "      <td>No</td>\n",
              "      <td>DSL</td>\n",
              "      <td>Yes</td>\n",
              "      <td>...</td>\n",
              "      <td>No</td>\n",
              "      <td>No</td>\n",
              "      <td>No</td>\n",
              "      <td>No</td>\n",
              "      <td>Month-to-month</td>\n",
              "      <td>Yes</td>\n",
              "      <td>Mailed check</td>\n",
              "      <td>53.85</td>\n",
              "      <td>108.15</td>\n",
              "      <td>Yes</td>\n",
              "    </tr>\n",
              "    <tr>\n",
              "      <th>3</th>\n",
              "      <td>7795-CFOCW</td>\n",
              "      <td>Male</td>\n",
              "      <td>0</td>\n",
              "      <td>No</td>\n",
              "      <td>No</td>\n",
              "      <td>45</td>\n",
              "      <td>No</td>\n",
              "      <td>No phone service</td>\n",
              "      <td>DSL</td>\n",
              "      <td>Yes</td>\n",
              "      <td>...</td>\n",
              "      <td>Yes</td>\n",
              "      <td>Yes</td>\n",
              "      <td>No</td>\n",
              "      <td>No</td>\n",
              "      <td>One year</td>\n",
              "      <td>No</td>\n",
              "      <td>Bank transfer (automatic)</td>\n",
              "      <td>42.30</td>\n",
              "      <td>1840.75</td>\n",
              "      <td>No</td>\n",
              "    </tr>\n",
              "  </tbody>\n",
              "</table>\n",
              "<p>4 rows × 21 columns</p>\n",
              "</div>\n",
              "      <button class=\"colab-df-convert\" onclick=\"convertToInteractive('df-d00d306b-963c-43a4-b370-8d43f1d4f9d6')\"\n",
              "              title=\"Convert this dataframe to an interactive table.\"\n",
              "              style=\"display:none;\">\n",
              "\n",
              "  <svg xmlns=\"http://www.w3.org/2000/svg\" height=\"24px\"viewBox=\"0 0 24 24\"\n",
              "       width=\"24px\">\n",
              "    <path d=\"M0 0h24v24H0V0z\" fill=\"none\"/>\n",
              "    <path d=\"M18.56 5.44l.94 2.06.94-2.06 2.06-.94-2.06-.94-.94-2.06-.94 2.06-2.06.94zm-11 1L8.5 8.5l.94-2.06 2.06-.94-2.06-.94L8.5 2.5l-.94 2.06-2.06.94zm10 10l.94 2.06.94-2.06 2.06-.94-2.06-.94-.94-2.06-.94 2.06-2.06.94z\"/><path d=\"M17.41 7.96l-1.37-1.37c-.4-.4-.92-.59-1.43-.59-.52 0-1.04.2-1.43.59L10.3 9.45l-7.72 7.72c-.78.78-.78 2.05 0 2.83L4 21.41c.39.39.9.59 1.41.59.51 0 1.02-.2 1.41-.59l7.78-7.78 2.81-2.81c.8-.78.8-2.07 0-2.86zM5.41 20L4 18.59l7.72-7.72 1.47 1.35L5.41 20z\"/>\n",
              "  </svg>\n",
              "      </button>\n",
              "\n",
              "\n",
              "\n",
              "    <div id=\"df-388db861-8bcb-4555-8067-77eea227e9a1\">\n",
              "      <button class=\"colab-df-quickchart\" onclick=\"quickchart('df-388db861-8bcb-4555-8067-77eea227e9a1')\"\n",
              "              title=\"Suggest charts.\"\n",
              "              style=\"display:none;\">\n",
              "\n",
              "<svg xmlns=\"http://www.w3.org/2000/svg\" height=\"24px\"viewBox=\"0 0 24 24\"\n",
              "     width=\"24px\">\n",
              "    <g>\n",
              "        <path d=\"M19 3H5c-1.1 0-2 .9-2 2v14c0 1.1.9 2 2 2h14c1.1 0 2-.9 2-2V5c0-1.1-.9-2-2-2zM9 17H7v-7h2v7zm4 0h-2V7h2v10zm4 0h-2v-4h2v4z\"/>\n",
              "    </g>\n",
              "</svg>\n",
              "      </button>\n",
              "    </div>\n",
              "\n",
              "<style>\n",
              "  .colab-df-quickchart {\n",
              "    background-color: #E8F0FE;\n",
              "    border: none;\n",
              "    border-radius: 50%;\n",
              "    cursor: pointer;\n",
              "    display: none;\n",
              "    fill: #1967D2;\n",
              "    height: 32px;\n",
              "    padding: 0 0 0 0;\n",
              "    width: 32px;\n",
              "  }\n",
              "\n",
              "  .colab-df-quickchart:hover {\n",
              "    background-color: #E2EBFA;\n",
              "    box-shadow: 0px 1px 2px rgba(60, 64, 67, 0.3), 0px 1px 3px 1px rgba(60, 64, 67, 0.15);\n",
              "    fill: #174EA6;\n",
              "  }\n",
              "\n",
              "  [theme=dark] .colab-df-quickchart {\n",
              "    background-color: #3B4455;\n",
              "    fill: #D2E3FC;\n",
              "  }\n",
              "\n",
              "  [theme=dark] .colab-df-quickchart:hover {\n",
              "    background-color: #434B5C;\n",
              "    box-shadow: 0px 1px 3px 1px rgba(0, 0, 0, 0.15);\n",
              "    filter: drop-shadow(0px 1px 2px rgba(0, 0, 0, 0.3));\n",
              "    fill: #FFFFFF;\n",
              "  }\n",
              "</style>\n",
              "\n",
              "    <script>\n",
              "      async function quickchart(key) {\n",
              "        const containerElement = document.querySelector('#' + key);\n",
              "        const charts = await google.colab.kernel.invokeFunction(\n",
              "            'suggestCharts', [key], {});\n",
              "      }\n",
              "    </script>\n",
              "\n",
              "      <script>\n",
              "\n",
              "function displayQuickchartButton(domScope) {\n",
              "  let quickchartButtonEl =\n",
              "    domScope.querySelector('#df-388db861-8bcb-4555-8067-77eea227e9a1 button.colab-df-quickchart');\n",
              "  quickchartButtonEl.style.display =\n",
              "    google.colab.kernel.accessAllowed ? 'block' : 'none';\n",
              "}\n",
              "\n",
              "        displayQuickchartButton(document);\n",
              "      </script>\n",
              "      <style>\n",
              "    .colab-df-container {\n",
              "      display:flex;\n",
              "      flex-wrap:wrap;\n",
              "      gap: 12px;\n",
              "    }\n",
              "\n",
              "    .colab-df-convert {\n",
              "      background-color: #E8F0FE;\n",
              "      border: none;\n",
              "      border-radius: 50%;\n",
              "      cursor: pointer;\n",
              "      display: none;\n",
              "      fill: #1967D2;\n",
              "      height: 32px;\n",
              "      padding: 0 0 0 0;\n",
              "      width: 32px;\n",
              "    }\n",
              "\n",
              "    .colab-df-convert:hover {\n",
              "      background-color: #E2EBFA;\n",
              "      box-shadow: 0px 1px 2px rgba(60, 64, 67, 0.3), 0px 1px 3px 1px rgba(60, 64, 67, 0.15);\n",
              "      fill: #174EA6;\n",
              "    }\n",
              "\n",
              "    [theme=dark] .colab-df-convert {\n",
              "      background-color: #3B4455;\n",
              "      fill: #D2E3FC;\n",
              "    }\n",
              "\n",
              "    [theme=dark] .colab-df-convert:hover {\n",
              "      background-color: #434B5C;\n",
              "      box-shadow: 0px 1px 3px 1px rgba(0, 0, 0, 0.15);\n",
              "      filter: drop-shadow(0px 1px 2px rgba(0, 0, 0, 0.3));\n",
              "      fill: #FFFFFF;\n",
              "    }\n",
              "  </style>\n",
              "\n",
              "      <script>\n",
              "        const buttonEl =\n",
              "          document.querySelector('#df-d00d306b-963c-43a4-b370-8d43f1d4f9d6 button.colab-df-convert');\n",
              "        buttonEl.style.display =\n",
              "          google.colab.kernel.accessAllowed ? 'block' : 'none';\n",
              "\n",
              "        async function convertToInteractive(key) {\n",
              "          const element = document.querySelector('#df-d00d306b-963c-43a4-b370-8d43f1d4f9d6');\n",
              "          const dataTable =\n",
              "            await google.colab.kernel.invokeFunction('convertToInteractive',\n",
              "                                                     [key], {});\n",
              "          if (!dataTable) return;\n",
              "\n",
              "          const docLinkHtml = 'Like what you see? Visit the ' +\n",
              "            '<a target=\"_blank\" href=https://colab.research.google.com/notebooks/data_table.ipynb>data table notebook</a>'\n",
              "            + ' to learn more about interactive tables.';\n",
              "          element.innerHTML = '';\n",
              "          dataTable['output_type'] = 'display_data';\n",
              "          await google.colab.output.renderOutput(dataTable, element);\n",
              "          const docLink = document.createElement('div');\n",
              "          docLink.innerHTML = docLinkHtml;\n",
              "          element.appendChild(docLink);\n",
              "        }\n",
              "      </script>\n",
              "    </div>\n",
              "  </div>\n"
            ],
            "text/plain": [
              "   customerID  gender  SeniorCitizen Partner Dependents  tenure PhoneService  \\\n",
              "0  7590-VHVEG  Female              0     Yes         No       1           No   \n",
              "1  5575-GNVDE    Male              0      No         No      34          Yes   \n",
              "2  3668-QPYBK    Male              0      No         No       2          Yes   \n",
              "3  7795-CFOCW    Male              0      No         No      45           No   \n",
              "\n",
              "      MultipleLines InternetService OnlineSecurity  ... DeviceProtection  \\\n",
              "0  No phone service             DSL             No  ...               No   \n",
              "1                No             DSL            Yes  ...              Yes   \n",
              "2                No             DSL            Yes  ...               No   \n",
              "3  No phone service             DSL            Yes  ...              Yes   \n",
              "\n",
              "  TechSupport StreamingTV StreamingMovies        Contract PaperlessBilling  \\\n",
              "0          No          No              No  Month-to-month              Yes   \n",
              "1          No          No              No        One year               No   \n",
              "2          No          No              No  Month-to-month              Yes   \n",
              "3         Yes          No              No        One year               No   \n",
              "\n",
              "               PaymentMethod MonthlyCharges  TotalCharges Churn  \n",
              "0           Electronic check          29.85         29.85    No  \n",
              "1               Mailed check          56.95        1889.5    No  \n",
              "2               Mailed check          53.85        108.15   Yes  \n",
              "3  Bank transfer (automatic)          42.30       1840.75    No  \n",
              "\n",
              "[4 rows x 21 columns]"
            ]
          },
          "execution_count": 10,
          "metadata": {},
          "output_type": "execute_result"
        }
      ],
      "source": [
        "# Importing all datasets\n",
        "telco = pd.read_csv(\"/content/telco.csv\")\n",
        "telco.head(4)"
      ]
    },
    {
      "cell_type": "code",
      "execution_count": 11,
      "metadata": {
        "colab": {
          "base_uri": "https://localhost:8080/"
        },
        "id": "lenVSyBSXTsd",
        "outputId": "a6f5b6ef-17ef-44b5-efec-90121a5dff8c"
      },
      "outputs": [
        {
          "data": {
            "text/plain": [
              "customerID           object\n",
              "gender               object\n",
              "SeniorCitizen         int64\n",
              "Partner              object\n",
              "Dependents           object\n",
              "tenure                int64\n",
              "PhoneService         object\n",
              "MultipleLines        object\n",
              "InternetService      object\n",
              "OnlineSecurity       object\n",
              "OnlineBackup         object\n",
              "DeviceProtection     object\n",
              "TechSupport          object\n",
              "StreamingTV          object\n",
              "StreamingMovies      object\n",
              "Contract             object\n",
              "PaperlessBilling     object\n",
              "PaymentMethod        object\n",
              "MonthlyCharges      float64\n",
              "TotalCharges         object\n",
              "Churn                object\n",
              "dtype: object"
            ]
          },
          "execution_count": 11,
          "metadata": {},
          "output_type": "execute_result"
        }
      ],
      "source": [
        "telco.dtypes"
      ]
    },
    {
      "cell_type": "code",
      "execution_count": 12,
      "metadata": {
        "colab": {
          "base_uri": "https://localhost:8080/"
        },
        "id": "o_EPsO5wXT2C",
        "outputId": "a7eb7117-308a-49ce-fe8f-b69d9a755157"
      },
      "outputs": [
        {
          "data": {
            "text/plain": [
              "(7043, 21)"
            ]
          },
          "execution_count": 12,
          "metadata": {},
          "output_type": "execute_result"
        }
      ],
      "source": [
        "telco.shape"
      ]
    },
    {
      "cell_type": "code",
      "execution_count": 13,
      "metadata": {
        "colab": {
          "base_uri": "https://localhost:8080/"
        },
        "id": "2G_KfutBbA-Z",
        "outputId": "81fbb95a-0fcf-4b24-c98f-b053060495f5"
      },
      "outputs": [
        {
          "name": "stdout",
          "output_type": "stream",
          "text": [
            "<class 'pandas.core.frame.DataFrame'>\n",
            "RangeIndex: 7043 entries, 0 to 7042\n",
            "Data columns (total 21 columns):\n",
            " #   Column            Non-Null Count  Dtype  \n",
            "---  ------            --------------  -----  \n",
            " 0   customerID        7043 non-null   object \n",
            " 1   gender            7043 non-null   object \n",
            " 2   SeniorCitizen     7043 non-null   int64  \n",
            " 3   Partner           7043 non-null   object \n",
            " 4   Dependents        7043 non-null   object \n",
            " 5   tenure            7043 non-null   int64  \n",
            " 6   PhoneService      7043 non-null   object \n",
            " 7   MultipleLines     7043 non-null   object \n",
            " 8   InternetService   7043 non-null   object \n",
            " 9   OnlineSecurity    7043 non-null   object \n",
            " 10  OnlineBackup      7043 non-null   object \n",
            " 11  DeviceProtection  7043 non-null   object \n",
            " 12  TechSupport       7043 non-null   object \n",
            " 13  StreamingTV       7043 non-null   object \n",
            " 14  StreamingMovies   7043 non-null   object \n",
            " 15  Contract          7043 non-null   object \n",
            " 16  PaperlessBilling  7043 non-null   object \n",
            " 17  PaymentMethod     7043 non-null   object \n",
            " 18  MonthlyCharges    7043 non-null   float64\n",
            " 19  TotalCharges      7043 non-null   object \n",
            " 20  Churn             7043 non-null   object \n",
            "dtypes: float64(1), int64(2), object(18)\n",
            "memory usage: 1.1+ MB\n"
          ]
        }
      ],
      "source": [
        "telco.info()"
      ]
    },
    {
      "cell_type": "code",
      "execution_count": 14,
      "metadata": {
        "colab": {
          "base_uri": "https://localhost:8080/"
        },
        "id": "doaSKqerbIyE",
        "outputId": "ab9e7198-e1a7-4059-ce71-055a7f667a29"
      },
      "outputs": [
        {
          "data": {
            "text/plain": [
              "Index(['customerID', 'gender', 'SeniorCitizen', 'Partner', 'Dependents',\n",
              "       'tenure', 'PhoneService', 'MultipleLines', 'InternetService',\n",
              "       'OnlineSecurity', 'OnlineBackup', 'DeviceProtection', 'TechSupport',\n",
              "       'StreamingTV', 'StreamingMovies', 'Contract', 'PaperlessBilling',\n",
              "       'PaymentMethod', 'MonthlyCharges', 'TotalCharges', 'Churn'],\n",
              "      dtype='object')"
            ]
          },
          "execution_count": 14,
          "metadata": {},
          "output_type": "execute_result"
        }
      ],
      "source": [
        "telco.columns"
      ]
    },
    {
      "cell_type": "code",
      "execution_count": 15,
      "metadata": {
        "id": "rO-yT6_9sws1"
      },
      "outputs": [],
      "source": [
        "from sklearn.model_selection import train_test_split"
      ]
    },
    {
      "cell_type": "code",
      "execution_count": 16,
      "metadata": {
        "colab": {
          "base_uri": "https://localhost:8080/"
        },
        "id": "MU3yODXXsnAI",
        "outputId": "2dadea76-3964-4d23-cd8c-30273e157637"
      },
      "outputs": [
        {
          "name": "stdout",
          "output_type": "stream",
          "text": [
            "(4930, 21) (2113, 21)\n"
          ]
        }
      ],
      "source": [
        "df_train, df_test = train_test_split(telco, test_size=0.3, random_state=100)\n",
        "print(df_train.shape, df_test.shape)"
      ]
    },
    {
      "cell_type": "code",
      "execution_count": 17,
      "metadata": {
        "id": "Gyzw64WDsy4G"
      },
      "outputs": [],
      "source": [
        "df_train.to_csv(\"train.csv\")\n",
        "df_test.to_csv(\"test.csv\")"
      ]
    },
    {
      "cell_type": "code",
      "execution_count": 18,
      "metadata": {
        "id": "yHN7f-oEbNwY"
      },
      "outputs": [],
      "source": [
        "telco[\"gender\"] = telco[\"gender\"].astype(\"category\").cat.codes\n",
        "telco[\"Partner\"] = telco[\"Partner\"].astype(\"category\").cat.codes\n",
        "telco[\"Dependents\"] = telco[\"Dependents\"].astype(\"category\").cat.codes\n",
        "telco[\"PhoneService\"] = telco[\"PhoneService\"].astype(\"category\").cat.codes\n",
        "telco[\"MultipleLines\"] = telco[\"MultipleLines\"].astype(\"category\").cat.codes"
      ]
    },
    {
      "cell_type": "code",
      "execution_count": 19,
      "metadata": {
        "id": "2RLpo9v3bOXw"
      },
      "outputs": [],
      "source": [
        "telco[\"InternetService\"] = telco[\"InternetService\"].astype(\"category\").cat.codes\n",
        "telco[\"OnlineSecurity\"] = telco[\"OnlineSecurity\"].astype(\"category\").cat.codes\n",
        "telco[\"OnlineBackup\"] = telco[\"OnlineBackup\"].astype(\"category\").cat.codes\n",
        "telco[\"DeviceProtection\"] = telco[\"DeviceProtection\"].astype(\"category\").cat.codes\n",
        "telco[\"TechSupport\"] = telco[\"TechSupport\"].astype(\"category\").cat.codes"
      ]
    },
    {
      "cell_type": "code",
      "execution_count": 20,
      "metadata": {
        "id": "_sYXpYg1bOc-"
      },
      "outputs": [],
      "source": [
        "telco[\"StreamingTV\"] = telco[\"StreamingTV\"].astype(\"category\").cat.codes\n",
        "telco[\"StreamingMovies\"] = telco[\"StreamingMovies\"].astype(\"category\").cat.codes\n",
        "telco[\"Contract\"] = telco[\"Contract\"].astype(\"category\").cat.codes\n",
        "telco[\"PaperlessBilling\"] = telco[\"PaperlessBilling\"].astype(\"category\").cat.codes\n",
        "telco[\"PaymentMethod\"] = telco[\"PaymentMethod\"].astype(\"category\").cat.codes\n",
        "telco[\"TotalCharges\"] = telco[\"TotalCharges\"].astype(\"category\").cat.codes\n",
        "telco[\"Churn\"] = telco[\"Churn\"].astype(\"category\").cat.codes"
      ]
    },
    {
      "cell_type": "code",
      "execution_count": 21,
      "metadata": {
        "id": "ieNtBsjubOlr"
      },
      "outputs": [],
      "source": [
        "telco[\"customerID\"] = telco[\"customerID\"].astype(\"category\").cat.codes"
      ]
    },
    {
      "cell_type": "code",
      "execution_count": 22,
      "metadata": {
        "colab": {
          "base_uri": "https://localhost:8080/"
        },
        "id": "Zye3HwCXdNpc",
        "outputId": "9b0df884-8a1b-45d9-9bb7-1b02fc0ccf09"
      },
      "outputs": [
        {
          "data": {
            "text/plain": [
              "(7043, 21)"
            ]
          },
          "execution_count": 22,
          "metadata": {},
          "output_type": "execute_result"
        }
      ],
      "source": [
        "telco.shape"
      ]
    },
    {
      "cell_type": "code",
      "execution_count": 23,
      "metadata": {
        "id": "meInbQ-IdfjD"
      },
      "outputs": [],
      "source": [
        "X = telco.drop(['TotalCharges'], axis=1)"
      ]
    },
    {
      "cell_type": "code",
      "execution_count": 24,
      "metadata": {
        "id": "Rt1jnkLzdw2A"
      },
      "outputs": [],
      "source": [
        "Y = telco[\"TotalCharges\"]"
      ]
    },
    {
      "cell_type": "code",
      "execution_count": 25,
      "metadata": {
        "colab": {
          "base_uri": "https://localhost:8080/",
          "height": 75
        },
        "id": "kd92O9MLd0-z",
        "outputId": "4cf69e78-01d8-4834-8340-b8fd76044ee6"
      },
      "outputs": [
        {
          "data": {
            "text/html": [
              "<style>#sk-container-id-1 {color: black;background-color: white;}#sk-container-id-1 pre{padding: 0;}#sk-container-id-1 div.sk-toggleable {background-color: white;}#sk-container-id-1 label.sk-toggleable__label {cursor: pointer;display: block;width: 100%;margin-bottom: 0;padding: 0.3em;box-sizing: border-box;text-align: center;}#sk-container-id-1 label.sk-toggleable__label-arrow:before {content: \"▸\";float: left;margin-right: 0.25em;color: #696969;}#sk-container-id-1 label.sk-toggleable__label-arrow:hover:before {color: black;}#sk-container-id-1 div.sk-estimator:hover label.sk-toggleable__label-arrow:before {color: black;}#sk-container-id-1 div.sk-toggleable__content {max-height: 0;max-width: 0;overflow: hidden;text-align: left;background-color: #f0f8ff;}#sk-container-id-1 div.sk-toggleable__content pre {margin: 0.2em;color: black;border-radius: 0.25em;background-color: #f0f8ff;}#sk-container-id-1 input.sk-toggleable__control:checked~div.sk-toggleable__content {max-height: 200px;max-width: 100%;overflow: auto;}#sk-container-id-1 input.sk-toggleable__control:checked~label.sk-toggleable__label-arrow:before {content: \"▾\";}#sk-container-id-1 div.sk-estimator input.sk-toggleable__control:checked~label.sk-toggleable__label {background-color: #d4ebff;}#sk-container-id-1 div.sk-label input.sk-toggleable__control:checked~label.sk-toggleable__label {background-color: #d4ebff;}#sk-container-id-1 input.sk-hidden--visually {border: 0;clip: rect(1px 1px 1px 1px);clip: rect(1px, 1px, 1px, 1px);height: 1px;margin: -1px;overflow: hidden;padding: 0;position: absolute;width: 1px;}#sk-container-id-1 div.sk-estimator {font-family: monospace;background-color: #f0f8ff;border: 1px dotted black;border-radius: 0.25em;box-sizing: border-box;margin-bottom: 0.5em;}#sk-container-id-1 div.sk-estimator:hover {background-color: #d4ebff;}#sk-container-id-1 div.sk-parallel-item::after {content: \"\";width: 100%;border-bottom: 1px solid gray;flex-grow: 1;}#sk-container-id-1 div.sk-label:hover label.sk-toggleable__label {background-color: #d4ebff;}#sk-container-id-1 div.sk-serial::before {content: \"\";position: absolute;border-left: 1px solid gray;box-sizing: border-box;top: 0;bottom: 0;left: 50%;z-index: 0;}#sk-container-id-1 div.sk-serial {display: flex;flex-direction: column;align-items: center;background-color: white;padding-right: 0.2em;padding-left: 0.2em;position: relative;}#sk-container-id-1 div.sk-item {position: relative;z-index: 1;}#sk-container-id-1 div.sk-parallel {display: flex;align-items: stretch;justify-content: center;background-color: white;position: relative;}#sk-container-id-1 div.sk-item::before, #sk-container-id-1 div.sk-parallel-item::before {content: \"\";position: absolute;border-left: 1px solid gray;box-sizing: border-box;top: 0;bottom: 0;left: 50%;z-index: -1;}#sk-container-id-1 div.sk-parallel-item {display: flex;flex-direction: column;z-index: 1;position: relative;background-color: white;}#sk-container-id-1 div.sk-parallel-item:first-child::after {align-self: flex-end;width: 50%;}#sk-container-id-1 div.sk-parallel-item:last-child::after {align-self: flex-start;width: 50%;}#sk-container-id-1 div.sk-parallel-item:only-child::after {width: 0;}#sk-container-id-1 div.sk-dashed-wrapped {border: 1px dashed gray;margin: 0 0.4em 0.5em 0.4em;box-sizing: border-box;padding-bottom: 0.4em;background-color: white;}#sk-container-id-1 div.sk-label label {font-family: monospace;font-weight: bold;display: inline-block;line-height: 1.2em;}#sk-container-id-1 div.sk-label-container {text-align: center;}#sk-container-id-1 div.sk-container {/* jupyter's `normalize.less` sets `[hidden] { display: none; }` but bootstrap.min.css set `[hidden] { display: none !important; }` so we also need the `!important` here to be able to override the default hidden behavior on the sphinx rendered scikit-learn.org. See: https://github.com/scikit-learn/scikit-learn/issues/21755 */display: inline-block !important;position: relative;}#sk-container-id-1 div.sk-text-repr-fallback {display: none;}</style><div id=\"sk-container-id-1\" class=\"sk-top-container\"><div class=\"sk-text-repr-fallback\"><pre>ExtraTreesRegressor()</pre><b>In a Jupyter environment, please rerun this cell to show the HTML representation or trust the notebook. <br />On GitHub, the HTML representation is unable to render, please try loading this page with nbviewer.org.</b></div><div class=\"sk-container\" hidden><div class=\"sk-item\"><div class=\"sk-estimator sk-toggleable\"><input class=\"sk-toggleable__control sk-hidden--visually\" id=\"sk-estimator-id-1\" type=\"checkbox\" checked><label for=\"sk-estimator-id-1\" class=\"sk-toggleable__label sk-toggleable__label-arrow\">ExtraTreesRegressor</label><div class=\"sk-toggleable__content\"><pre>ExtraTreesRegressor()</pre></div></div></div></div></div>"
            ],
            "text/plain": [
              "ExtraTreesRegressor()"
            ]
          },
          "execution_count": 25,
          "metadata": {},
          "output_type": "execute_result"
        }
      ],
      "source": [
        "from sklearn.ensemble import ExtraTreesRegressor\n",
        "import matplotlib.pyplot as plt\n",
        "model=ExtraTreesRegressor()\n",
        "model.fit(X,Y)"
      ]
    },
    {
      "cell_type": "code",
      "execution_count": 26,
      "metadata": {
        "colab": {
          "base_uri": "https://localhost:8080/"
        },
        "id": "pE3wGyineA_x",
        "outputId": "559c7cc8-d5a5-4f20-a87a-fc93ea9011f9"
      },
      "outputs": [
        {
          "name": "stdout",
          "output_type": "stream",
          "text": [
            "[0.02299762 0.01136095 0.0052955  0.01095782 0.00937496 0.55780546\n",
            " 0.01543808 0.01679043 0.05996042 0.00847431 0.01226424 0.0114593\n",
            " 0.00693779 0.01342141 0.02294389 0.02622031 0.00828448 0.01478611\n",
            " 0.1551276  0.01009932]\n"
          ]
        }
      ],
      "source": [
        "print(model.feature_importances_)"
      ]
    },
    {
      "cell_type": "code",
      "execution_count": 27,
      "metadata": {
        "colab": {
          "base_uri": "https://localhost:8080/",
          "height": 430
        },
        "id": "y9tDwBoBeDsT",
        "outputId": "53f8771d-c4a4-4b85-f379-05fade92ab56"
      },
      "outputs": [
        {
          "data": {
            "image/png": "[encoded data removed]",
            "text/plain": [
              "<Figure size 640x480 with 1 Axes>"
            ]
          },
          "metadata": {},
          "output_type": "display_data"
        }
      ],
      "source": [
        "ranked_features=pd.Series(model.feature_importances_,index=X.columns)\n",
        "ranked_features.nlargest(10).plot(kind='barh')\n",
        "plt.show()"
      ]
    },
    {
      "cell_type": "code",
      "execution_count": 28,
      "metadata": {
        "colab": {
          "base_uri": "https://localhost:8080/",
          "height": 741
        },
        "id": "gW4JBHOkeI6y",
        "outputId": "ea242e94-45bf-46bb-e797-c21dda3fc6e1"
      },
      "outputs": [
        {
          "data": {
            "text/html": [
              "\n",
              "\n",
              "  <div id=\"df-6fa21444-1266-4ff1-adec-d63263e85e4e\">\n",
              "    <div class=\"colab-df-container\">\n",
              "      <div>\n",
              "<style scoped>\n",
              "    .dataframe tbody tr th:only-of-type {\n",
              "        vertical-align: middle;\n",
              "    }\n",
              "\n",
              "    .dataframe tbody tr th {\n",
              "        vertical-align: top;\n",
              "    }\n",
              "\n",
              "    .dataframe thead th {\n",
              "        text-align: right;\n",
              "    }\n",
              "</style>\n",
              "<table border=\"1\" class=\"dataframe\">\n",
              "  <thead>\n",
              "    <tr style=\"text-align: right;\">\n",
              "      <th></th>\n",
              "      <th>customerID</th>\n",
              "      <th>gender</th>\n",
              "      <th>SeniorCitizen</th>\n",
              "      <th>Partner</th>\n",
              "      <th>Dependents</th>\n",
              "      <th>tenure</th>\n",
              "      <th>PhoneService</th>\n",
              "      <th>MultipleLines</th>\n",
              "      <th>InternetService</th>\n",
              "      <th>OnlineSecurity</th>\n",
              "      <th>OnlineBackup</th>\n",
              "      <th>DeviceProtection</th>\n",
              "      <th>TechSupport</th>\n",
              "      <th>StreamingTV</th>\n",
              "      <th>StreamingMovies</th>\n",
              "      <th>Contract</th>\n",
              "      <th>PaperlessBilling</th>\n",
              "      <th>PaymentMethod</th>\n",
              "      <th>MonthlyCharges</th>\n",
              "      <th>Churn</th>\n",
              "    </tr>\n",
              "  </thead>\n",
              "  <tbody>\n",
              "    <tr>\n",
              "      <th>customerID</th>\n",
              "      <td>1.000000</td>\n",
              "      <td>0.006288</td>\n",
              "      <td>-0.002074</td>\n",
              "      <td>-0.026729</td>\n",
              "      <td>-0.012823</td>\n",
              "      <td>0.008035</td>\n",
              "      <td>-0.006483</td>\n",
              "      <td>0.004316</td>\n",
              "      <td>-0.012407</td>\n",
              "      <td>0.013292</td>\n",
              "      <td>-0.003334</td>\n",
              "      <td>-0.006918</td>\n",
              "      <td>0.001140</td>\n",
              "      <td>-0.007777</td>\n",
              "      <td>-0.016746</td>\n",
              "      <td>0.015028</td>\n",
              "      <td>-0.001945</td>\n",
              "      <td>0.011604</td>\n",
              "      <td>-0.003916</td>\n",
              "      <td>-0.017447</td>\n",
              "    </tr>\n",
              "    <tr>\n",
              "      <th>gender</th>\n",
              "      <td>0.006288</td>\n",
              "      <td>1.000000</td>\n",
              "      <td>-0.001874</td>\n",
              "      <td>-0.001808</td>\n",
              "      <td>0.010517</td>\n",
              "      <td>0.005106</td>\n",
              "      <td>-0.006488</td>\n",
              "      <td>-0.006739</td>\n",
              "      <td>-0.000863</td>\n",
              "      <td>-0.015017</td>\n",
              "      <td>-0.012057</td>\n",
              "      <td>0.000549</td>\n",
              "      <td>-0.006825</td>\n",
              "      <td>-0.006421</td>\n",
              "      <td>-0.008743</td>\n",
              "      <td>0.000126</td>\n",
              "      <td>-0.011754</td>\n",
              "      <td>0.017352</td>\n",
              "      <td>-0.014569</td>\n",
              "      <td>-0.008612</td>\n",
              "    </tr>\n",
              "    <tr>\n",
              "      <th>SeniorCitizen</th>\n",
              "      <td>-0.002074</td>\n",
              "      <td>-0.001874</td>\n",
              "      <td>1.000000</td>\n",
              "      <td>0.016479</td>\n",
              "      <td>-0.211185</td>\n",
              "      <td>0.016567</td>\n",
              "      <td>0.008576</td>\n",
              "      <td>0.146185</td>\n",
              "      <td>-0.032310</td>\n",
              "      <td>-0.128221</td>\n",
              "      <td>-0.013632</td>\n",
              "      <td>-0.021398</td>\n",
              "      <td>-0.151268</td>\n",
              "      <td>0.030776</td>\n",
              "      <td>0.047266</td>\n",
              "      <td>-0.142554</td>\n",
              "      <td>0.156530</td>\n",
              "      <td>-0.038551</td>\n",
              "      <td>0.220173</td>\n",
              "      <td>0.150889</td>\n",
              "    </tr>\n",
              "    <tr>\n",
              "      <th>Partner</th>\n",
              "      <td>-0.026729</td>\n",
              "      <td>-0.001808</td>\n",
              "      <td>0.016479</td>\n",
              "      <td>1.000000</td>\n",
              "      <td>0.452676</td>\n",
              "      <td>0.379697</td>\n",
              "      <td>0.017706</td>\n",
              "      <td>0.142410</td>\n",
              "      <td>0.000891</td>\n",
              "      <td>0.150828</td>\n",
              "      <td>0.153130</td>\n",
              "      <td>0.166330</td>\n",
              "      <td>0.126733</td>\n",
              "      <td>0.137341</td>\n",
              "      <td>0.129574</td>\n",
              "      <td>0.294806</td>\n",
              "      <td>-0.014877</td>\n",
              "      <td>-0.154798</td>\n",
              "      <td>0.096848</td>\n",
              "      <td>-0.150448</td>\n",
              "    </tr>\n",
              "    <tr>\n",
              "      <th>Dependents</th>\n",
              "      <td>-0.012823</td>\n",
              "      <td>0.010517</td>\n",
              "      <td>-0.211185</td>\n",
              "      <td>0.452676</td>\n",
              "      <td>1.000000</td>\n",
              "      <td>0.159712</td>\n",
              "      <td>-0.001762</td>\n",
              "      <td>-0.024991</td>\n",
              "      <td>0.044590</td>\n",
              "      <td>0.152166</td>\n",
              "      <td>0.091015</td>\n",
              "      <td>0.080537</td>\n",
              "      <td>0.133524</td>\n",
              "      <td>0.046885</td>\n",
              "      <td>0.021321</td>\n",
              "      <td>0.243187</td>\n",
              "      <td>-0.111377</td>\n",
              "      <td>-0.040292</td>\n",
              "      <td>-0.113890</td>\n",
              "      <td>-0.164221</td>\n",
              "    </tr>\n",
              "    <tr>\n",
              "      <th>tenure</th>\n",
              "      <td>0.008035</td>\n",
              "      <td>0.005106</td>\n",
              "      <td>0.016567</td>\n",
              "      <td>0.379697</td>\n",
              "      <td>0.159712</td>\n",
              "      <td>1.000000</td>\n",
              "      <td>0.008448</td>\n",
              "      <td>0.343032</td>\n",
              "      <td>-0.030359</td>\n",
              "      <td>0.325468</td>\n",
              "      <td>0.370876</td>\n",
              "      <td>0.371105</td>\n",
              "      <td>0.322942</td>\n",
              "      <td>0.289373</td>\n",
              "      <td>0.296866</td>\n",
              "      <td>0.671607</td>\n",
              "      <td>0.006152</td>\n",
              "      <td>-0.370436</td>\n",
              "      <td>0.247900</td>\n",
              "      <td>-0.352229</td>\n",
              "    </tr>\n",
              "    <tr>\n",
              "      <th>PhoneService</th>\n",
              "      <td>-0.006483</td>\n",
              "      <td>-0.006488</td>\n",
              "      <td>0.008576</td>\n",
              "      <td>0.017706</td>\n",
              "      <td>-0.001762</td>\n",
              "      <td>0.008448</td>\n",
              "      <td>1.000000</td>\n",
              "      <td>-0.020538</td>\n",
              "      <td>0.387436</td>\n",
              "      <td>-0.015198</td>\n",
              "      <td>0.024105</td>\n",
              "      <td>0.003727</td>\n",
              "      <td>-0.019158</td>\n",
              "      <td>0.055353</td>\n",
              "      <td>0.043870</td>\n",
              "      <td>0.002247</td>\n",
              "      <td>0.016505</td>\n",
              "      <td>-0.004184</td>\n",
              "      <td>0.247398</td>\n",
              "      <td>0.011942</td>\n",
              "    </tr>\n",
              "    <tr>\n",
              "      <th>MultipleLines</th>\n",
              "      <td>0.004316</td>\n",
              "      <td>-0.006739</td>\n",
              "      <td>0.146185</td>\n",
              "      <td>0.142410</td>\n",
              "      <td>-0.024991</td>\n",
              "      <td>0.343032</td>\n",
              "      <td>-0.020538</td>\n",
              "      <td>1.000000</td>\n",
              "      <td>-0.109216</td>\n",
              "      <td>0.007141</td>\n",
              "      <td>0.117327</td>\n",
              "      <td>0.122318</td>\n",
              "      <td>0.011466</td>\n",
              "      <td>0.175059</td>\n",
              "      <td>0.180957</td>\n",
              "      <td>0.110842</td>\n",
              "      <td>0.165146</td>\n",
              "      <td>-0.176793</td>\n",
              "      <td>0.433576</td>\n",
              "      <td>0.038037</td>\n",
              "    </tr>\n",
              "    <tr>\n",
              "      <th>InternetService</th>\n",
              "      <td>-0.012407</td>\n",
              "      <td>-0.000863</td>\n",
              "      <td>-0.032310</td>\n",
              "      <td>0.000891</td>\n",
              "      <td>0.044590</td>\n",
              "      <td>-0.030359</td>\n",
              "      <td>0.387436</td>\n",
              "      <td>-0.109216</td>\n",
              "      <td>1.000000</td>\n",
              "      <td>-0.028416</td>\n",
              "      <td>0.036138</td>\n",
              "      <td>0.044944</td>\n",
              "      <td>-0.026047</td>\n",
              "      <td>0.107417</td>\n",
              "      <td>0.098350</td>\n",
              "      <td>0.099721</td>\n",
              "      <td>-0.138625</td>\n",
              "      <td>0.086140</td>\n",
              "      <td>-0.323260</td>\n",
              "      <td>-0.047291</td>\n",
              "    </tr>\n",
              "    <tr>\n",
              "      <th>OnlineSecurity</th>\n",
              "      <td>0.013292</td>\n",
              "      <td>-0.015017</td>\n",
              "      <td>-0.128221</td>\n",
              "      <td>0.150828</td>\n",
              "      <td>0.152166</td>\n",
              "      <td>0.325468</td>\n",
              "      <td>-0.015198</td>\n",
              "      <td>0.007141</td>\n",
              "      <td>-0.028416</td>\n",
              "      <td>1.000000</td>\n",
              "      <td>0.185126</td>\n",
              "      <td>0.175985</td>\n",
              "      <td>0.285028</td>\n",
              "      <td>0.044669</td>\n",
              "      <td>0.055954</td>\n",
              "      <td>0.374416</td>\n",
              "      <td>-0.157641</td>\n",
              "      <td>-0.096726</td>\n",
              "      <td>-0.053878</td>\n",
              "      <td>-0.289309</td>\n",
              "    </tr>\n",
              "    <tr>\n",
              "      <th>OnlineBackup</th>\n",
              "      <td>-0.003334</td>\n",
              "      <td>-0.012057</td>\n",
              "      <td>-0.013632</td>\n",
              "      <td>0.153130</td>\n",
              "      <td>0.091015</td>\n",
              "      <td>0.370876</td>\n",
              "      <td>0.024105</td>\n",
              "      <td>0.117327</td>\n",
              "      <td>0.036138</td>\n",
              "      <td>0.185126</td>\n",
              "      <td>1.000000</td>\n",
              "      <td>0.187757</td>\n",
              "      <td>0.195748</td>\n",
              "      <td>0.147186</td>\n",
              "      <td>0.136722</td>\n",
              "      <td>0.280980</td>\n",
              "      <td>-0.013370</td>\n",
              "      <td>-0.124847</td>\n",
              "      <td>0.119777</td>\n",
              "      <td>-0.195525</td>\n",
              "    </tr>\n",
              "    <tr>\n",
              "      <th>DeviceProtection</th>\n",
              "      <td>-0.006918</td>\n",
              "      <td>0.000549</td>\n",
              "      <td>-0.021398</td>\n",
              "      <td>0.166330</td>\n",
              "      <td>0.080537</td>\n",
              "      <td>0.371105</td>\n",
              "      <td>0.003727</td>\n",
              "      <td>0.122318</td>\n",
              "      <td>0.044944</td>\n",
              "      <td>0.175985</td>\n",
              "      <td>0.187757</td>\n",
              "      <td>1.000000</td>\n",
              "      <td>0.240593</td>\n",
              "      <td>0.276652</td>\n",
              "      <td>0.288799</td>\n",
              "      <td>0.350277</td>\n",
              "      <td>-0.038234</td>\n",
              "      <td>-0.135750</td>\n",
              "      <td>0.163652</td>\n",
              "      <td>-0.178134</td>\n",
              "    </tr>\n",
              "    <tr>\n",
              "      <th>TechSupport</th>\n",
              "      <td>0.001140</td>\n",
              "      <td>-0.006825</td>\n",
              "      <td>-0.151268</td>\n",
              "      <td>0.126733</td>\n",
              "      <td>0.133524</td>\n",
              "      <td>0.322942</td>\n",
              "      <td>-0.019158</td>\n",
              "      <td>0.011466</td>\n",
              "      <td>-0.026047</td>\n",
              "      <td>0.285028</td>\n",
              "      <td>0.195748</td>\n",
              "      <td>0.240593</td>\n",
              "      <td>1.000000</td>\n",
              "      <td>0.161305</td>\n",
              "      <td>0.161316</td>\n",
              "      <td>0.425367</td>\n",
              "      <td>-0.113600</td>\n",
              "      <td>-0.104670</td>\n",
              "      <td>-0.008682</td>\n",
              "      <td>-0.282492</td>\n",
              "    </tr>\n",
              "    <tr>\n",
              "      <th>StreamingTV</th>\n",
              "      <td>-0.007777</td>\n",
              "      <td>-0.006421</td>\n",
              "      <td>0.030776</td>\n",
              "      <td>0.137341</td>\n",
              "      <td>0.046885</td>\n",
              "      <td>0.289373</td>\n",
              "      <td>0.055353</td>\n",
              "      <td>0.175059</td>\n",
              "      <td>0.107417</td>\n",
              "      <td>0.044669</td>\n",
              "      <td>0.147186</td>\n",
              "      <td>0.276652</td>\n",
              "      <td>0.161305</td>\n",
              "      <td>1.000000</td>\n",
              "      <td>0.434772</td>\n",
              "      <td>0.227116</td>\n",
              "      <td>0.096642</td>\n",
              "      <td>-0.104234</td>\n",
              "      <td>0.336706</td>\n",
              "      <td>-0.036581</td>\n",
              "    </tr>\n",
              "    <tr>\n",
              "      <th>StreamingMovies</th>\n",
              "      <td>-0.016746</td>\n",
              "      <td>-0.008743</td>\n",
              "      <td>0.047266</td>\n",
              "      <td>0.129574</td>\n",
              "      <td>0.021321</td>\n",
              "      <td>0.296866</td>\n",
              "      <td>0.043870</td>\n",
              "      <td>0.180957</td>\n",
              "      <td>0.098350</td>\n",
              "      <td>0.055954</td>\n",
              "      <td>0.136722</td>\n",
              "      <td>0.288799</td>\n",
              "      <td>0.161316</td>\n",
              "      <td>0.434772</td>\n",
              "      <td>1.000000</td>\n",
              "      <td>0.231226</td>\n",
              "      <td>0.083700</td>\n",
              "      <td>-0.111241</td>\n",
              "      <td>0.335459</td>\n",
              "      <td>-0.038492</td>\n",
              "    </tr>\n",
              "    <tr>\n",
              "      <th>Contract</th>\n",
              "      <td>0.015028</td>\n",
              "      <td>0.000126</td>\n",
              "      <td>-0.142554</td>\n",
              "      <td>0.294806</td>\n",
              "      <td>0.243187</td>\n",
              "      <td>0.671607</td>\n",
              "      <td>0.002247</td>\n",
              "      <td>0.110842</td>\n",
              "      <td>0.099721</td>\n",
              "      <td>0.374416</td>\n",
              "      <td>0.280980</td>\n",
              "      <td>0.350277</td>\n",
              "      <td>0.425367</td>\n",
              "      <td>0.227116</td>\n",
              "      <td>0.231226</td>\n",
              "      <td>1.000000</td>\n",
              "      <td>-0.176733</td>\n",
              "      <td>-0.227543</td>\n",
              "      <td>-0.074195</td>\n",
              "      <td>-0.396713</td>\n",
              "    </tr>\n",
              "    <tr>\n",
              "      <th>PaperlessBilling</th>\n",
              "      <td>-0.001945</td>\n",
              "      <td>-0.011754</td>\n",
              "      <td>0.156530</td>\n",
              "      <td>-0.014877</td>\n",
              "      <td>-0.111377</td>\n",
              "      <td>0.006152</td>\n",
              "      <td>0.016505</td>\n",
              "      <td>0.165146</td>\n",
              "      <td>-0.138625</td>\n",
              "      <td>-0.157641</td>\n",
              "      <td>-0.013370</td>\n",
              "      <td>-0.038234</td>\n",
              "      <td>-0.113600</td>\n",
              "      <td>0.096642</td>\n",
              "      <td>0.083700</td>\n",
              "      <td>-0.176733</td>\n",
              "      <td>1.000000</td>\n",
              "      <td>-0.062904</td>\n",
              "      <td>0.352150</td>\n",
              "      <td>0.191825</td>\n",
              "    </tr>\n",
              "    <tr>\n",
              "      <th>PaymentMethod</th>\n",
              "      <td>0.011604</td>\n",
              "      <td>0.017352</td>\n",
              "      <td>-0.038551</td>\n",
              "      <td>-0.154798</td>\n",
              "      <td>-0.040292</td>\n",
              "      <td>-0.370436</td>\n",
              "      <td>-0.004184</td>\n",
              "      <td>-0.176793</td>\n",
              "      <td>0.086140</td>\n",
              "      <td>-0.096726</td>\n",
              "      <td>-0.124847</td>\n",
              "      <td>-0.135750</td>\n",
              "      <td>-0.104670</td>\n",
              "      <td>-0.104234</td>\n",
              "      <td>-0.111241</td>\n",
              "      <td>-0.227543</td>\n",
              "      <td>-0.062904</td>\n",
              "      <td>1.000000</td>\n",
              "      <td>-0.193407</td>\n",
              "      <td>0.107062</td>\n",
              "    </tr>\n",
              "    <tr>\n",
              "      <th>MonthlyCharges</th>\n",
              "      <td>-0.003916</td>\n",
              "      <td>-0.014569</td>\n",
              "      <td>0.220173</td>\n",
              "      <td>0.096848</td>\n",
              "      <td>-0.113890</td>\n",
              "      <td>0.247900</td>\n",
              "      <td>0.247398</td>\n",
              "      <td>0.433576</td>\n",
              "      <td>-0.323260</td>\n",
              "      <td>-0.053878</td>\n",
              "      <td>0.119777</td>\n",
              "      <td>0.163652</td>\n",
              "      <td>-0.008682</td>\n",
              "      <td>0.336706</td>\n",
              "      <td>0.335459</td>\n",
              "      <td>-0.074195</td>\n",
              "      <td>0.352150</td>\n",
              "      <td>-0.193407</td>\n",
              "      <td>1.000000</td>\n",
              "      <td>0.193356</td>\n",
              "    </tr>\n",
              "    <tr>\n",
              "      <th>Churn</th>\n",
              "      <td>-0.017447</td>\n",
              "      <td>-0.008612</td>\n",
              "      <td>0.150889</td>\n",
              "      <td>-0.150448</td>\n",
              "      <td>-0.164221</td>\n",
              "      <td>-0.352229</td>\n",
              "      <td>0.011942</td>\n",
              "      <td>0.038037</td>\n",
              "      <td>-0.047291</td>\n",
              "      <td>-0.289309</td>\n",
              "      <td>-0.195525</td>\n",
              "      <td>-0.178134</td>\n",
              "      <td>-0.282492</td>\n",
              "      <td>-0.036581</td>\n",
              "      <td>-0.038492</td>\n",
              "      <td>-0.396713</td>\n",
              "      <td>0.191825</td>\n",
              "      <td>0.107062</td>\n",
              "      <td>0.193356</td>\n",
              "      <td>1.000000</td>\n",
              "    </tr>\n",
              "  </tbody>\n",
              "</table>\n",
              "</div>\n",
              "      <button class=\"colab-df-convert\" onclick=\"convertToInteractive('df-6fa21444-1266-4ff1-adec-d63263e85e4e')\"\n",
              "              title=\"Convert this dataframe to an interactive table.\"\n",
              "              style=\"display:none;\">\n",
              "\n",
              "  <svg xmlns=\"http://www.w3.org/2000/svg\" height=\"24px\"viewBox=\"0 0 24 24\"\n",
              "       width=\"24px\">\n",
              "    <path d=\"M0 0h24v24H0V0z\" fill=\"none\"/>\n",
              "    <path d=\"M18.56 5.44l.94 2.06.94-2.06 2.06-.94-2.06-.94-.94-2.06-.94 2.06-2.06.94zm-11 1L8.5 8.5l.94-2.06 2.06-.94-2.06-.94L8.5 2.5l-.94 2.06-2.06.94zm10 10l.94 2.06.94-2.06 2.06-.94-2.06-.94-.94-2.06-.94 2.06-2.06.94z\"/><path d=\"M17.41 7.96l-1.37-1.37c-.4-.4-.92-.59-1.43-.59-.52 0-1.04.2-1.43.59L10.3 9.45l-7.72 7.72c-.78.78-.78 2.05 0 2.83L4 21.41c.39.39.9.59 1.41.59.51 0 1.02-.2 1.41-.59l7.78-7.78 2.81-2.81c.8-.78.8-2.07 0-2.86zM5.41 20L4 18.59l7.72-7.72 1.47 1.35L5.41 20z\"/>\n",
              "  </svg>\n",
              "      </button>\n",
              "\n",
              "\n",
              "\n",
              "    <div id=\"df-a19168ef-4e67-4ace-96d7-f9bc2381f49f\">\n",
              "      <button class=\"colab-df-quickchart\" onclick=\"quickchart('df-a19168ef-4e67-4ace-96d7-f9bc2381f49f')\"\n",
              "              title=\"Suggest charts.\"\n",
              "              style=\"display:none;\">\n",
              "\n",
              "<svg xmlns=\"http://www.w3.org/2000/svg\" height=\"24px\"viewBox=\"0 0 24 24\"\n",
              "     width=\"24px\">\n",
              "    <g>\n",
              "        <path d=\"M19 3H5c-1.1 0-2 .9-2 2v14c0 1.1.9 2 2 2h14c1.1 0 2-.9 2-2V5c0-1.1-.9-2-2-2zM9 17H7v-7h2v7zm4 0h-2V7h2v10zm4 0h-2v-4h2v4z\"/>\n",
              "    </g>\n",
              "</svg>\n",
              "      </button>\n",
              "    </div>\n",
              "\n",
              "<style>\n",
              "  .colab-df-quickchart {\n",
              "    background-color: #E8F0FE;\n",
              "    border: none;\n",
              "    border-radius: 50%;\n",
              "    cursor: pointer;\n",
              "    display: none;\n",
              "    fill: #1967D2;\n",
              "    height: 32px;\n",
              "    padding: 0 0 0 0;\n",
              "    width: 32px;\n",
              "  }\n",
              "\n",
              "  .colab-df-quickchart:hover {\n",
              "    background-color: #E2EBFA;\n",
              "    box-shadow: 0px 1px 2px rgba(60, 64, 67, 0.3), 0px 1px 3px 1px rgba(60, 64, 67, 0.15);\n",
              "    fill: #174EA6;\n",
              "  }\n",
              "\n",
              "  [theme=dark] .colab-df-quickchart {\n",
              "    background-color: #3B4455;\n",
              "    fill: #D2E3FC;\n",
              "  }\n",
              "\n",
              "  [theme=dark] .colab-df-quickchart:hover {\n",
              "    background-color: #434B5C;\n",
              "    box-shadow: 0px 1px 3px 1px rgba(0, 0, 0, 0.15);\n",
              "    filter: drop-shadow(0px 1px 2px rgba(0, 0, 0, 0.3));\n",
              "    fill: #FFFFFF;\n",
              "  }\n",
              "</style>\n",
              "\n",
              "    <script>\n",
              "      async function quickchart(key) {\n",
              "        const containerElement = document.querySelector('#' + key);\n",
              "        const charts = await google.colab.kernel.invokeFunction(\n",
              "            'suggestCharts', [key], {});\n",
              "      }\n",
              "    </script>\n",
              "\n",
              "      <script>\n",
              "\n",
              "function displayQuickchartButton(domScope) {\n",
              "  let quickchartButtonEl =\n",
              "    domScope.querySelector('#df-a19168ef-4e67-4ace-96d7-f9bc2381f49f button.colab-df-quickchart');\n",
              "  quickchartButtonEl.style.display =\n",
              "    google.colab.kernel.accessAllowed ? 'block' : 'none';\n",
              "}\n",
              "\n",
              "        displayQuickchartButton(document);\n",
              "      </script>\n",
              "      <style>\n",
              "    .colab-df-container {\n",
              "      display:flex;\n",
              "      flex-wrap:wrap;\n",
              "      gap: 12px;\n",
              "    }\n",
              "\n",
              "    .colab-df-convert {\n",
              "      background-color: #E8F0FE;\n",
              "      border: none;\n",
              "      border-radius: 50%;\n",
              "      cursor: pointer;\n",
              "      display: none;\n",
              "      fill: #1967D2;\n",
              "      height: 32px;\n",
              "      padding: 0 0 0 0;\n",
              "      width: 32px;\n",
              "    }\n",
              "\n",
              "    .colab-df-convert:hover {\n",
              "      background-color: #E2EBFA;\n",
              "      box-shadow: 0px 1px 2px rgba(60, 64, 67, 0.3), 0px 1px 3px 1px rgba(60, 64, 67, 0.15);\n",
              "      fill: #174EA6;\n",
              "    }\n",
              "\n",
              "    [theme=dark] .colab-df-convert {\n",
              "      background-color: #3B4455;\n",
              "      fill: #D2E3FC;\n",
              "    }\n",
              "\n",
              "    [theme=dark] .colab-df-convert:hover {\n",
              "      background-color: #434B5C;\n",
              "      box-shadow: 0px 1px 3px 1px rgba(0, 0, 0, 0.15);\n",
              "      filter: drop-shadow(0px 1px 2px rgba(0, 0, 0, 0.3));\n",
              "      fill: #FFFFFF;\n",
              "    }\n",
              "  </style>\n",
              "\n",
              "      <script>\n",
              "        const buttonEl =\n",
              "          document.querySelector('#df-6fa21444-1266-4ff1-adec-d63263e85e4e button.colab-df-convert');\n",
              "        buttonEl.style.display =\n",
              "          google.colab.kernel.accessAllowed ? 'block' : 'none';\n",
              "\n",
              "        async function convertToInteractive(key) {\n",
              "          const element = document.querySelector('#df-6fa21444-1266-4ff1-adec-d63263e85e4e');\n",
              "          const dataTable =\n",
              "            await google.colab.kernel.invokeFunction('convertToInteractive',\n",
              "                                                     [key], {});\n",
              "          if (!dataTable) return;\n",
              "\n",
              "          const docLinkHtml = 'Like what you see? Visit the ' +\n",
              "            '<a target=\"_blank\" href=https://colab.research.google.com/notebooks/data_table.ipynb>data table notebook</a>'\n",
              "            + ' to learn more about interactive tables.';\n",
              "          element.innerHTML = '';\n",
              "          dataTable['output_type'] = 'display_data';\n",
              "          await google.colab.output.renderOutput(dataTable, element);\n",
              "          const docLink = document.createElement('div');\n",
              "          docLink.innerHTML = docLinkHtml;\n",
              "          element.appendChild(docLink);\n",
              "        }\n",
              "      </script>\n",
              "    </div>\n",
              "  </div>\n"
            ],
            "text/plain": [
              "                  customerID    gender  SeniorCitizen   Partner  Dependents  \\\n",
              "customerID          1.000000  0.006288      -0.002074 -0.026729   -0.012823   \n",
              "gender              0.006288  1.000000      -0.001874 -0.001808    0.010517   \n",
              "SeniorCitizen      -0.002074 -0.001874       1.000000  0.016479   -0.211185   \n",
              "Partner            -0.026729 -0.001808       0.016479  1.000000    0.452676   \n",
              "Dependents         -0.012823  0.010517      -0.211185  0.452676    1.000000   \n",
              "tenure              0.008035  0.005106       0.016567  0.379697    0.159712   \n",
              "PhoneService       -0.006483 -0.006488       0.008576  0.017706   -0.001762   \n",
              "MultipleLines       0.004316 -0.006739       0.146185  0.142410   -0.024991   \n",
              "InternetService    -0.012407 -0.000863      -0.032310  0.000891    0.044590   \n",
              "OnlineSecurity      0.013292 -0.015017      -0.128221  0.150828    0.152166   \n",
              "OnlineBackup       -0.003334 -0.012057      -0.013632  0.153130    0.091015   \n",
              "DeviceProtection   -0.006918  0.000549      -0.021398  0.166330    0.080537   \n",
              "TechSupport         0.001140 -0.006825      -0.151268  0.126733    0.133524   \n",
              "StreamingTV        -0.007777 -0.006421       0.030776  0.137341    0.046885   \n",
              "StreamingMovies    -0.016746 -0.008743       0.047266  0.129574    0.021321   \n",
              "Contract            0.015028  0.000126      -0.142554  0.294806    0.243187   \n",
              "PaperlessBilling   -0.001945 -0.011754       0.156530 -0.014877   -0.111377   \n",
              "PaymentMethod       0.011604  0.017352      -0.038551 -0.154798   -0.040292   \n",
              "MonthlyCharges     -0.003916 -0.014569       0.220173  0.096848   -0.113890   \n",
              "Churn              -0.017447 -0.008612       0.150889 -0.150448   -0.164221   \n",
              "\n",
              "                    tenure  PhoneService  MultipleLines  InternetService  \\\n",
              "customerID        0.008035     -0.006483       0.004316        -0.012407   \n",
              "gender            0.005106     -0.006488      -0.006739        -0.000863   \n",
              "SeniorCitizen     0.016567      0.008576       0.146185        -0.032310   \n",
              "Partner           0.379697      0.017706       0.142410         0.000891   \n",
              "Dependents        0.159712     -0.001762      -0.024991         0.044590   \n",
              "tenure            1.000000      0.008448       0.343032        -0.030359   \n",
              "PhoneService      0.008448      1.000000      -0.020538         0.387436   \n",
              "MultipleLines     0.343032     -0.020538       1.000000        -0.109216   \n",
              "InternetService  -0.030359      0.387436      -0.109216         1.000000   \n",
              "OnlineSecurity    0.325468     -0.015198       0.007141        -0.028416   \n",
              "OnlineBackup      0.370876      0.024105       0.117327         0.036138   \n",
              "DeviceProtection  0.371105      0.003727       0.122318         0.044944   \n",
              "TechSupport       0.322942     -0.019158       0.011466        -0.026047   \n",
              "StreamingTV       0.289373      0.055353       0.175059         0.107417   \n",
              "StreamingMovies   0.296866      0.043870       0.180957         0.098350   \n",
              "Contract          0.671607      0.002247       0.110842         0.099721   \n",
              "PaperlessBilling  0.006152      0.016505       0.165146        -0.138625   \n",
              "PaymentMethod    -0.370436     -0.004184      -0.176793         0.086140   \n",
              "MonthlyCharges    0.247900      0.247398       0.433576        -0.323260   \n",
              "Churn            -0.352229      0.011942       0.038037        -0.047291   \n",
              "\n",
              "                  OnlineSecurity  OnlineBackup  DeviceProtection  TechSupport  \\\n",
              "customerID              0.013292     -0.003334         -0.006918     0.001140   \n",
              "gender                 -0.015017     -0.012057          0.000549    -0.006825   \n",
              "SeniorCitizen          -0.128221     -0.013632         -0.021398    -0.151268   \n",
              "Partner                 0.150828      0.153130          0.166330     0.126733   \n",
              "Dependents              0.152166      0.091015          0.080537     0.133524   \n",
              "tenure                  0.325468      0.370876          0.371105     0.322942   \n",
              "PhoneService           -0.015198      0.024105          0.003727    -0.019158   \n",
              "MultipleLines           0.007141      0.117327          0.122318     0.011466   \n",
              "InternetService        -0.028416      0.036138          0.044944    -0.026047   \n",
              "OnlineSecurity          1.000000      0.185126          0.175985     0.285028   \n",
              "OnlineBackup            0.185126      1.000000          0.187757     0.195748   \n",
              "DeviceProtection        0.175985      0.187757          1.000000     0.240593   \n",
              "TechSupport             0.285028      0.195748          0.240593     1.000000   \n",
              "StreamingTV             0.044669      0.147186          0.276652     0.161305   \n",
              "StreamingMovies         0.055954      0.136722          0.288799     0.161316   \n",
              "Contract                0.374416      0.280980          0.350277     0.425367   \n",
              "PaperlessBilling       -0.157641     -0.013370         -0.038234    -0.113600   \n",
              "PaymentMethod          -0.096726     -0.124847         -0.135750    -0.104670   \n",
              "MonthlyCharges         -0.053878      0.119777          0.163652    -0.008682   \n",
              "Churn                  -0.289309     -0.195525         -0.178134    -0.282492   \n",
              "\n",
              "                  StreamingTV  StreamingMovies  Contract  PaperlessBilling  \\\n",
              "customerID          -0.007777        -0.016746  0.015028         -0.001945   \n",
              "gender              -0.006421        -0.008743  0.000126         -0.011754   \n",
              "SeniorCitizen        0.030776         0.047266 -0.142554          0.156530   \n",
              "Partner              0.137341         0.129574  0.294806         -0.014877   \n",
              "Dependents           0.046885         0.021321  0.243187         -0.111377   \n",
              "tenure               0.289373         0.296866  0.671607          0.006152   \n",
              "PhoneService         0.055353         0.043870  0.002247          0.016505   \n",
              "MultipleLines        0.175059         0.180957  0.110842          0.165146   \n",
              "InternetService      0.107417         0.098350  0.099721         -0.138625   \n",
              "OnlineSecurity       0.044669         0.055954  0.374416         -0.157641   \n",
              "OnlineBackup         0.147186         0.136722  0.280980         -0.013370   \n",
              "DeviceProtection     0.276652         0.288799  0.350277         -0.038234   \n",
              "TechSupport          0.161305         0.161316  0.425367         -0.113600   \n",
              "StreamingTV          1.000000         0.434772  0.227116          0.096642   \n",
              "StreamingMovies      0.434772         1.000000  0.231226          0.083700   \n",
              "Contract             0.227116         0.231226  1.000000         -0.176733   \n",
              "PaperlessBilling     0.096642         0.083700 -0.176733          1.000000   \n",
              "PaymentMethod       -0.104234        -0.111241 -0.227543         -0.062904   \n",
              "MonthlyCharges       0.336706         0.335459 -0.074195          0.352150   \n",
              "Churn               -0.036581        -0.038492 -0.396713          0.191825   \n",
              "\n",
              "                  PaymentMethod  MonthlyCharges     Churn  \n",
              "customerID             0.011604       -0.003916 -0.017447  \n",
              "gender                 0.017352       -0.014569 -0.008612  \n",
              "SeniorCitizen         -0.038551        0.220173  0.150889  \n",
              "Partner               -0.154798        0.096848 -0.150448  \n",
              "Dependents            -0.040292       -0.113890 -0.164221  \n",
              "tenure                -0.370436        0.247900 -0.352229  \n",
              "PhoneService          -0.004184        0.247398  0.011942  \n",
              "MultipleLines         -0.176793        0.433576  0.038037  \n",
              "InternetService        0.086140       -0.323260 -0.047291  \n",
              "OnlineSecurity        -0.096726       -0.053878 -0.289309  \n",
              "OnlineBackup          -0.124847        0.119777 -0.195525  \n",
              "DeviceProtection      -0.135750        0.163652 -0.178134  \n",
              "TechSupport           -0.104670       -0.008682 -0.282492  \n",
              "StreamingTV           -0.104234        0.336706 -0.036581  \n",
              "StreamingMovies       -0.111241        0.335459 -0.038492  \n",
              "Contract              -0.227543       -0.074195 -0.396713  \n",
              "PaperlessBilling      -0.062904        0.352150  0.191825  \n",
              "PaymentMethod          1.000000       -0.193407  0.107062  \n",
              "MonthlyCharges        -0.193407        1.000000  0.193356  \n",
              "Churn                  0.107062        0.193356  1.000000  "
            ]
          },
          "execution_count": 28,
          "metadata": {},
          "output_type": "execute_result"
        }
      ],
      "source": [
        "X.corr()"
      ]
    },
    {
      "cell_type": "code",
      "execution_count": 29,
      "metadata": {
        "id": "A2tEgBD-eRUN"
      },
      "outputs": [],
      "source": [
        "threshold=0.8"
      ]
    },
    {
      "cell_type": "code",
      "execution_count": 30,
      "metadata": {
        "id": "DAzKFtrheXl4"
      },
      "outputs": [],
      "source": [
        "# find and remove correlated features\n",
        "def correlation(dataset, threshold):\n",
        "    col_corr = set()  # Set of all the names of correlated columns\n",
        "    corr_matrix = dataset.corr()\n",
        "    for i in range(len(corr_matrix.columns)):\n",
        "        for j in range(i):\n",
        "            if abs(corr_matrix.iloc[i, j]) > threshold: # we are interested in absolute coeff value\n",
        "                colname = corr_matrix.columns[i]  # getting the name of column\n",
        "                col_corr.add(colname)\n",
        "    return col_corr"
      ]
    },
    {
      "cell_type": "code",
      "execution_count": 31,
      "metadata": {
        "colab": {
          "base_uri": "https://localhost:8080/"
        },
        "id": "qbUR5ebjeZRW",
        "outputId": "cb75fd76-c05d-4ae1-80a3-0fcfe02872a0"
      },
      "outputs": [
        {
          "data": {
            "text/plain": [
              "set()"
            ]
          },
          "execution_count": 31,
          "metadata": {},
          "output_type": "execute_result"
        }
      ],
      "source": [
        "correlation(X.iloc[:,:-1],threshold)"
      ]
    },
    {
      "cell_type": "code",
      "execution_count": 32,
      "metadata": {
        "id": "UxzsL8Fbeee6"
      },
      "outputs": [],
      "source": [
        "from sklearn.feature_selection import mutual_info_regression"
      ]
    },
    {
      "cell_type": "code",
      "execution_count": 33,
      "metadata": {
        "id": "5w_kxXeheiJ7"
      },
      "outputs": [],
      "source": [
        "mutual_info=mutual_info_regression(X,Y)"
      ]
    },
    {
      "cell_type": "code",
      "execution_count": 34,
      "metadata": {
        "colab": {
          "base_uri": "https://localhost:8080/"
        },
        "id": "jrXQ-ARaej3R",
        "outputId": "e814b79e-6088-4203-d9a8-121a0bc1da0b"
      },
      "outputs": [
        {
          "data": {
            "text/plain": [
              "tenure              0.649064\n",
              "MonthlyCharges      0.525242\n",
              "StreamingTV         0.135138\n",
              "StreamingMovies     0.130743\n",
              "OnlineBackup        0.128836\n",
              "DeviceProtection    0.128075\n",
              "InternetService     0.125143\n",
              "TechSupport         0.111930\n",
              "OnlineSecurity      0.107180\n",
              "MultipleLines       0.099101\n",
              "Contract            0.092241\n",
              "PaymentMethod       0.052508\n",
              "Partner             0.042013\n",
              "Churn               0.034474\n",
              "PhoneService        0.026892\n",
              "PaperlessBilling    0.018870\n",
              "Dependents          0.010622\n",
              "gender              0.008417\n",
              "customerID          0.002807\n",
              "SeniorCitizen       0.001948\n",
              "dtype: float64"
            ]
          },
          "execution_count": 34,
          "metadata": {},
          "output_type": "execute_result"
        }
      ],
      "source": [
        "mutual_data=pd.Series(mutual_info,index=X.columns)\n",
        "mutual_data.sort_values(ascending=False)\n"
      ]
    },
    {
      "cell_type": "code",
      "execution_count": 35,
      "metadata": {
        "id": "W0FPlZSsetST"
      },
      "outputs": [],
      "source": [
        "from sklearn.model_selection import train_test_split"
      ]
    },
    {
      "cell_type": "code",
      "execution_count": 36,
      "metadata": {
        "id": "ucUkwYlhelpA"
      },
      "outputs": [],
      "source": [
        "# columnslitting the data into train and test\n",
        "X_train, X_test, Y_train, Y_test = train_test_split(X, Y, train_size=0.7, test_size=0.3, random_state=100)"
      ]
    },
    {
      "cell_type": "code",
      "execution_count": 37,
      "metadata": {
        "colab": {
          "base_uri": "https://localhost:8080/"
        },
        "id": "uuVvDsVKe3VJ",
        "outputId": "162fe416-5ab0-4861-a9d0-fb52931f0ac0"
      },
      "outputs": [
        {
          "name": "stdout",
          "output_type": "stream",
          "text": [
            "(4930, 20)\n",
            "(2113, 20)\n",
            "(4930,)\n",
            "(2113,)\n"
          ]
        }
      ],
      "source": [
        "print(X_train.shape)\n",
        "print(X_test.shape)\n",
        "print(Y_train.shape)\n",
        "print(Y_test.shape)"
      ]
    },
    {
      "cell_type": "code",
      "execution_count": 38,
      "metadata": {
        "id": "Lpx2NHore54L"
      },
      "outputs": [],
      "source": [
        "from sklearn.datasets import load_iris\n",
        "from sklearn.model_selection import train_test_split\n",
        "from sklearn.preprocessing import StandardScaler\n",
        "from sklearn.decomposition import PCA\n",
        "from sklearn.pipeline import Pipeline\n",
        "from sklearn.linear_model import LinearRegression\n",
        "from sklearn.tree import DecisionTreeRegressor\n",
        "from sklearn.ensemble import RandomForestRegressor\n",
        "from xgboost import XGBRegressor"
      ]
    },
    {
      "cell_type": "code",
      "execution_count": 39,
      "metadata": {
        "id": "aF4-HX_Ve8cp"
      },
      "outputs": [],
      "source": [
        "pipeline_lr=Pipeline([('scalar1',StandardScaler()),\n",
        "                     ('pca1',PCA(n_components=5)),\n",
        "                     ('lin_regressor',LinearRegression())])"
      ]
    },
    {
      "cell_type": "code",
      "execution_count": 40,
      "metadata": {
        "id": "jWdNuY1ke_Jb"
      },
      "outputs": [],
      "source": [
        "pipeline_dt=Pipeline([('scalar2',StandardScaler()),\n",
        "                     ('pca2',PCA(n_components=5)),\n",
        "                     ('dt_regressor',DecisionTreeRegressor())])"
      ]
    },
    {
      "cell_type": "code",
      "execution_count": 41,
      "metadata": {
        "id": "Jm5fEmPAfOBH"
      },
      "outputs": [],
      "source": [
        "pipeline_randomforest=Pipeline([('scalar3',StandardScaler()),\n",
        "                     ('pca3',PCA(n_components=5)),\n",
        "                     ('rf_classifier',RandomForestRegressor())])"
      ]
    },
    {
      "cell_type": "code",
      "execution_count": 42,
      "metadata": {
        "id": "8V_15MbMfPnf"
      },
      "outputs": [],
      "source": [
        "pipeline_xgbregressor=Pipeline([('scalar3',StandardScaler()),\n",
        "                     ('pca3',PCA(n_components=5)),\n",
        "                     ('rf_classifier',XGBRegressor())])"
      ]
    },
    {
      "cell_type": "code",
      "execution_count": 43,
      "metadata": {
        "id": "ArTsUJlOfSmQ"
      },
      "outputs": [],
      "source": [
        "## LEts make the list of pipelines\n",
        "pipelines = [pipeline_lr, pipeline_dt, pipeline_randomforest, pipeline_xgbregressor]"
      ]
    },
    {
      "cell_type": "code",
      "execution_count": 44,
      "metadata": {
        "id": "ZxscddQIfU3b"
      },
      "outputs": [],
      "source": [
        "best_accuracy=0.0\n",
        "best_regressor=0\n",
        "best_pipeline=\"\""
      ]
    },
    {
      "cell_type": "code",
      "execution_count": 45,
      "metadata": {
        "id": "9mZryZj-fZaW"
      },
      "outputs": [],
      "source": [
        "# Dictionary of pipelines and classifier types for ease of reference\n",
        "pipe_dict = {0: 'Logistic Regression', 1: 'Decision Tree', 2: 'RandomForest', 3: 'XGBRegressor'}\n",
        "\n",
        "# Fit the pipelines\n",
        "for pipe in pipelines:\n",
        "\tpipe.fit(X_train, Y_train)"
      ]
    },
    {
      "cell_type": "code",
      "execution_count": 46,
      "metadata": {
        "colab": {
          "base_uri": "https://localhost:8080/"
        },
        "id": "aVbkyh1qffpj",
        "outputId": "8e47d445-41b9-42d3-8c01-8b0e68e5432b"
      },
      "outputs": [
        {
          "name": "stdout",
          "output_type": "stream",
          "text": [
            "Logistic Regression Test Accuracy: 0.06810703677121277\n",
            "Decision Tree Test Accuracy: -0.37423858790318354\n",
            "RandomForest Test Accuracy: 0.2778241247569774\n",
            "XGBRegressor Test Accuracy: 0.23433157352092027\n"
          ]
        }
      ],
      "source": [
        "for i,model in enumerate(pipelines):\n",
        "    print(\"{} Test Accuracy: {}\".format(pipe_dict[i],model.score(X_test,Y_test)))"
      ]
    },
    {
      "cell_type": "code",
      "execution_count": 47,
      "metadata": {
        "id": "5fHEhxfjfifK"
      },
      "outputs": [],
      "source": [
        "xgb_regressor=XGBRegressor(random_state=0).fit(X_train,Y_train)\n",
        "prediction_xgb=xgb_regressor.predict(X_test)"
      ]
    },
    {
      "cell_type": "code",
      "execution_count": 48,
      "metadata": {
        "colab": {
          "base_uri": "https://localhost:8080/"
        },
        "id": "rH0bLTx_fq2d",
        "outputId": "3cb19a43-d528-46ed-ea75-c02cfdb56fb2"
      },
      "outputs": [
        {
          "name": "stdout",
          "output_type": "stream",
          "text": [
            "Mean Squarred Error :  812089.75\n",
            "Mean Absolute Error :  405.6939\n",
            "Mean Absolute Percentage Error :  656960669285814.6\n"
          ]
        }
      ],
      "source": [
        "from sklearn.metrics import mean_absolute_error, mean_squared_error, mean_absolute_percentage_error, r2_score\n",
        "print(\"Mean Squarred Error : \",mean_squared_error(Y_test,prediction_xgb))\n",
        "print(\"Mean Absolute Error : \",mean_absolute_error(Y_test,prediction_xgb))\n",
        "print(\"Mean Absolute Percentage Error : \",mean_absolute_percentage_error(Y_test,prediction_xgb))"
      ]
    },
    {
      "cell_type": "code",
      "execution_count": 49,
      "metadata": {
        "colab": {
          "base_uri": "https://localhost:8080/"
        },
        "id": "EVV5sq7ufwWk",
        "outputId": "eadac00a-048c-4654-c9f7-f6d82f9572b5"
      },
      "outputs": [
        {
          "name": "stdout",
          "output_type": "stream",
          "text": [
            "R2 Score :  0.7772077083523357\n"
          ]
        }
      ],
      "source": [
        "print(\"R2 Score : \",r2_score(Y_test,prediction_xgb))"
      ]
    },
    {
      "cell_type": "code",
      "execution_count": 50,
      "metadata": {
        "id": "-AZk9-A6f2IC"
      },
      "outputs": [],
      "source": [
        "from xgboost import XGBRegressor\n",
        "from sklearn.model_selection import GridSearchCV\n",
        "from sklearn.model_selection import RandomizedSearchCV\n",
        "import time"
      ]
    },
    {
      "cell_type": "code",
      "execution_count": 51,
      "metadata": {
        "colab": {
          "base_uri": "https://localhost:8080/"
        },
        "id": "Ox_tmHxMf2Tk",
        "outputId": "bfdeba4f-64f2-43eb-9ff0-a3a739aa75de"
      },
      "outputs": [
        {
          "name": "stdout",
          "output_type": "stream",
          "text": [
            "[15:29:09] WARNING: ../src/learner.cc:767: \n",
            "Parameters: { \"colsample_bytree\", \"gamma\", \"max_depth\", \"min_child_weight\", \"subsample\" } are not used.\n",
            "\n",
            "[15:29:09] WARNING: ../src/learner.cc:767: \n",
            "Parameters: { \"colsample_bytree\", \"gamma\", \"max_depth\", \"min_child_weight\", \"subsample\" } are not used.\n",
            "\n",
            "[15:29:09] WARNING: ../src/learner.cc:767: \n",
            "Parameters: { \"colsample_bytree\", \"gamma\", \"max_depth\", \"min_child_weight\", \"subsample\" } are not used.\n",
            "\n",
            "[15:29:10] WARNING: ../src/learner.cc:767: \n",
            "Parameters: { \"colsample_bytree\", \"gamma\", \"max_depth\", \"min_child_weight\", \"subsample\" } are not used.\n",
            "\n",
            "[15:29:12] WARNING: ../src/learner.cc:767: \n",
            "Parameters: { \"colsample_bytree\", \"gamma\", \"max_depth\", \"min_child_weight\", \"subsample\" } are not used.\n",
            "\n",
            "[15:29:12] WARNING: ../src/learner.cc:767: \n",
            "Parameters: { \"colsample_bytree\", \"gamma\", \"max_depth\", \"min_child_weight\", \"subsample\" } are not used.\n",
            "\n",
            "[15:29:13] WARNING: ../src/learner.cc:767: \n",
            "Parameters: { \"colsample_bytree\", \"gamma\", \"max_depth\", \"min_child_weight\", \"subsample\" } are not used.\n",
            "\n",
            "[15:29:13] WARNING: ../src/learner.cc:767: \n",
            "Parameters: { \"colsample_bytree\", \"gamma\", \"max_depth\", \"min_child_weight\", \"subsample\" } are not used.\n",
            "\n",
            "[15:29:14] WARNING: ../src/learner.cc:767: \n",
            "Parameters: { \"colsample_bytree\", \"gamma\", \"max_depth\", \"min_child_weight\", \"subsample\" } are not used.\n",
            "\n",
            "[15:29:14] WARNING: ../src/learner.cc:767: \n",
            "Parameters: { \"colsample_bytree\", \"gamma\", \"max_depth\", \"min_child_weight\", \"subsample\" } are not used.\n",
            "\n",
            "[15:29:14] WARNING: ../src/learner.cc:767: \n",
            "Parameters: { \"colsample_bytree\", \"gamma\", \"max_depth\", \"min_child_weight\", \"subsample\" } are not used.\n",
            "\n",
            "[15:29:15] WARNING: ../src/learner.cc:767: \n",
            "Parameters: { \"colsample_bytree\", \"gamma\", \"max_depth\", \"min_child_weight\", \"subsample\" } are not used.\n",
            "\n",
            "[15:29:15] WARNING: ../src/learner.cc:767: \n",
            "Parameters: { \"colsample_bytree\", \"gamma\", \"max_depth\", \"min_child_weight\", \"subsample\" } are not used.\n",
            "\n",
            "[15:29:16] WARNING: ../src/learner.cc:767: \n",
            "Parameters: { \"colsample_bytree\", \"gamma\", \"max_depth\", \"min_child_weight\", \"subsample\" } are not used.\n",
            "\n",
            "[15:29:16] WARNING: ../src/learner.cc:767: \n",
            "Parameters: { \"colsample_bytree\", \"gamma\", \"max_depth\", \"min_child_weight\", \"subsample\" } are not used.\n",
            "\n",
            "[15:29:17] WARNING: ../src/learner.cc:767: \n",
            "Parameters: { \"colsample_bytree\", \"gamma\", \"max_depth\", \"min_child_weight\", \"subsample\" } are not used.\n",
            "\n",
            "[15:29:17] WARNING: ../src/learner.cc:767: \n",
            "Parameters: { \"colsample_bytree\", \"gamma\", \"max_depth\", \"min_child_weight\", \"subsample\" } are not used.\n",
            "\n",
            "[15:29:18] WARNING: ../src/learner.cc:767: \n",
            "Parameters: { \"colsample_bytree\", \"gamma\", \"max_depth\", \"min_child_weight\", \"subsample\" } are not used.\n",
            "\n",
            "[15:29:18] WARNING: ../src/learner.cc:767: \n",
            "Parameters: { \"colsample_bytree\", \"gamma\", \"max_depth\", \"min_child_weight\", \"subsample\" } are not used.\n",
            "\n",
            "[15:29:19] WARNING: ../src/learner.cc:767: \n",
            "Parameters: { \"colsample_bytree\", \"gamma\", \"max_depth\", \"min_child_weight\", \"subsample\" } are not used.\n",
            "\n",
            "[15:29:19] WARNING: ../src/learner.cc:767: \n",
            "Parameters: { \"colsample_bytree\", \"gamma\", \"max_depth\", \"min_child_weight\", \"subsample\" } are not used.\n",
            "\n",
            "[15:29:19] WARNING: ../src/learner.cc:767: \n",
            "Parameters: { \"colsample_bytree\", \"gamma\", \"max_depth\", \"min_child_weight\", \"subsample\" } are not used.\n",
            "\n",
            "[15:29:20] WARNING: ../src/learner.cc:767: \n",
            "Parameters: { \"colsample_bytree\", \"gamma\", \"max_depth\", \"min_child_weight\", \"subsample\" } are not used.\n",
            "\n",
            "[15:29:20] WARNING: ../src/learner.cc:767: \n",
            "Parameters: { \"colsample_bytree\", \"gamma\", \"max_depth\", \"min_child_weight\", \"subsample\" } are not used.\n",
            "\n",
            "[15:29:20] WARNING: ../src/learner.cc:767: \n",
            "Parameters: { \"colsample_bytree\", \"gamma\", \"max_depth\", \"min_child_weight\", \"subsample\" } are not used.\n",
            "\n",
            "[15:29:21] WARNING: ../src/learner.cc:767: \n",
            "Parameters: { \"colsample_bytree\", \"gamma\", \"max_depth\", \"min_child_weight\", \"subsample\" } are not used.\n",
            "\n",
            "[15:29:21] WARNING: ../src/learner.cc:767: \n",
            "Parameters: { \"colsample_bytree\", \"gamma\", \"max_depth\", \"min_child_weight\", \"subsample\" } are not used.\n",
            "\n",
            "[15:30:40] WARNING: ../src/learner.cc:767: \n",
            "Parameters: { \"colsample_bytree\", \"gamma\", \"max_depth\", \"min_child_weight\", \"subsample\" } are not used.\n",
            "\n",
            "[15:30:40] WARNING: ../src/learner.cc:767: \n",
            "Parameters: { \"colsample_bytree\", \"gamma\", \"max_depth\", \"min_child_weight\", \"subsample\" } are not used.\n",
            "\n",
            "[15:30:41] WARNING: ../src/learner.cc:767: \n",
            "Parameters: { \"colsample_bytree\", \"gamma\", \"max_depth\", \"min_child_weight\", \"subsample\" } are not used.\n",
            "\n",
            "[15:30:41] WARNING: ../src/learner.cc:767: \n",
            "Parameters: { \"colsample_bytree\", \"gamma\", \"max_depth\", \"min_child_weight\", \"subsample\" } are not used.\n",
            "\n",
            "[15:30:41] WARNING: ../src/learner.cc:767: \n",
            "Parameters: { \"colsample_bytree\", \"gamma\", \"max_depth\", \"min_child_weight\", \"subsample\" } are not used.\n",
            "\n",
            "[15:30:42] WARNING: ../src/learner.cc:767: \n",
            "Parameters: { \"colsample_bytree\", \"gamma\", \"max_depth\", \"min_child_weight\", \"subsample\" } are not used.\n",
            "\n",
            "[15:30:42] WARNING: ../src/learner.cc:767: \n",
            "Parameters: { \"colsample_bytree\", \"gamma\", \"max_depth\", \"min_child_weight\", \"subsample\" } are not used.\n",
            "\n",
            "[15:30:42] WARNING: ../src/learner.cc:767: \n",
            "Parameters: { \"colsample_bytree\", \"gamma\", \"max_depth\", \"min_child_weight\", \"subsample\" } are not used.\n",
            "\n",
            "[15:30:43] WARNING: ../src/learner.cc:767: \n",
            "Parameters: { \"colsample_bytree\", \"gamma\", \"max_depth\", \"min_child_weight\", \"subsample\" } are not used.\n",
            "\n",
            "[15:30:43] WARNING: ../src/learner.cc:767: \n",
            "Parameters: { \"colsample_bytree\", \"gamma\", \"max_depth\", \"min_child_weight\", \"subsample\" } are not used.\n",
            "\n",
            "[15:30:43] WARNING: ../src/learner.cc:767: \n",
            "Parameters: { \"colsample_bytree\", \"gamma\", \"max_depth\", \"min_child_weight\", \"subsample\" } are not used.\n",
            "\n",
            "[15:30:44] WARNING: ../src/learner.cc:767: \n",
            "Parameters: { \"colsample_bytree\", \"gamma\", \"max_depth\", \"min_child_weight\", \"subsample\" } are not used.\n",
            "\n",
            "[15:30:44] WARNING: ../src/learner.cc:767: \n",
            "Parameters: { \"colsample_bytree\", \"gamma\", \"max_depth\", \"min_child_weight\", \"subsample\" } are not used.\n",
            "\n",
            "[15:30:44] WARNING: ../src/learner.cc:767: \n",
            "Parameters: { \"colsample_bytree\", \"gamma\", \"max_depth\", \"min_child_weight\", \"subsample\" } are not used.\n",
            "\n",
            "[15:30:45] WARNING: ../src/learner.cc:767: \n",
            "Parameters: { \"colsample_bytree\", \"gamma\", \"max_depth\", \"min_child_weight\", \"subsample\" } are not used.\n",
            "\n",
            "[15:30:45] WARNING: ../src/learner.cc:767: \n",
            "Parameters: { \"colsample_bytree\", \"gamma\", \"max_depth\", \"min_child_weight\", \"subsample\" } are not used.\n",
            "\n",
            "[15:30:45] WARNING: ../src/learner.cc:767: \n",
            "Parameters: { \"colsample_bytree\", \"gamma\", \"max_depth\", \"min_child_weight\", \"subsample\" } are not used.\n",
            "\n",
            "[15:30:46] WARNING: ../src/learner.cc:767: \n",
            "Parameters: { \"colsample_bytree\", \"gamma\", \"max_depth\", \"min_child_weight\", \"subsample\" } are not used.\n",
            "\n",
            "[15:31:58] WARNING: ../src/learner.cc:767: \n",
            "Parameters: { \"colsample_bytree\", \"gamma\", \"max_depth\", \"min_child_weight\", \"subsample\" } are not used.\n",
            "\n",
            "[15:31:59] WARNING: ../src/learner.cc:767: \n",
            "Parameters: { \"colsample_bytree\", \"gamma\", \"max_depth\", \"min_child_weight\", \"subsample\" } are not used.\n",
            "\n",
            "[15:31:59] WARNING: ../src/learner.cc:767: \n",
            "Parameters: { \"colsample_bytree\", \"gamma\", \"max_depth\", \"min_child_weight\", \"subsample\" } are not used.\n",
            "\n",
            "[15:32:00] WARNING: ../src/learner.cc:767: \n",
            "Parameters: { \"colsample_bytree\", \"gamma\", \"max_depth\", \"min_child_weight\", \"subsample\" } are not used.\n",
            "\n",
            "[15:32:00] WARNING: ../src/learner.cc:767: \n",
            "Parameters: { \"colsample_bytree\", \"gamma\", \"max_depth\", \"min_child_weight\", \"subsample\" } are not used.\n",
            "\n",
            "[15:32:03] WARNING: ../src/learner.cc:767: \n",
            "Parameters: { \"colsample_bytree\", \"gamma\", \"max_depth\", \"min_child_weight\", \"subsample\" } are not used.\n",
            "\n",
            "[15:32:03] WARNING: ../src/learner.cc:767: \n",
            "Parameters: { \"colsample_bytree\", \"gamma\", \"max_depth\", \"min_child_weight\", \"subsample\" } are not used.\n",
            "\n",
            "[15:32:04] WARNING: ../src/learner.cc:767: \n",
            "Parameters: { \"colsample_bytree\", \"gamma\", \"max_depth\", \"min_child_weight\", \"subsample\" } are not used.\n",
            "\n",
            "[15:32:04] WARNING: ../src/learner.cc:767: \n",
            "Parameters: { \"colsample_bytree\", \"gamma\", \"max_depth\", \"min_child_weight\", \"subsample\" } are not used.\n",
            "\n",
            "[15:32:05] WARNING: ../src/learner.cc:767: \n",
            "Parameters: { \"colsample_bytree\", \"gamma\", \"max_depth\", \"min_child_weight\", \"subsample\" } are not used.\n",
            "\n",
            "[15:32:05] WARNING: ../src/learner.cc:767: \n",
            "Parameters: { \"colsample_bytree\", \"gamma\", \"max_depth\", \"min_child_weight\", \"subsample\" } are not used.\n",
            "\n",
            "[15:32:05] WARNING: ../src/learner.cc:767: \n",
            "Parameters: { \"colsample_bytree\", \"gamma\", \"max_depth\", \"min_child_weight\", \"subsample\" } are not used.\n",
            "\n",
            "[15:32:06] WARNING: ../src/learner.cc:767: \n",
            "Parameters: { \"colsample_bytree\", \"gamma\", \"max_depth\", \"min_child_weight\", \"subsample\" } are not used.\n",
            "\n",
            "[15:32:06] WARNING: ../src/learner.cc:767: \n",
            "Parameters: { \"colsample_bytree\", \"gamma\", \"max_depth\", \"min_child_weight\", \"subsample\" } are not used.\n",
            "\n",
            "[15:32:07] WARNING: ../src/learner.cc:767: \n",
            "Parameters: { \"colsample_bytree\", \"gamma\", \"max_depth\", \"min_child_weight\", \"subsample\" } are not used.\n",
            "\n",
            "[15:32:07] WARNING: ../src/learner.cc:767: \n",
            "Parameters: { \"colsample_bytree\", \"gamma\", \"max_depth\", \"min_child_weight\", \"subsample\" } are not used.\n",
            "\n",
            "[15:32:08] WARNING: ../src/learner.cc:767: \n",
            "Parameters: { \"colsample_bytree\", \"gamma\", \"max_depth\", \"min_child_weight\", \"subsample\" } are not used.\n",
            "\n",
            "[15:32:08] WARNING: ../src/learner.cc:767: \n",
            "Parameters: { \"colsample_bytree\", \"gamma\", \"max_depth\", \"min_child_weight\", \"subsample\" } are not used.\n",
            "\n",
            "[15:32:09] WARNING: ../src/learner.cc:767: \n",
            "Parameters: { \"colsample_bytree\", \"gamma\", \"max_depth\", \"min_child_weight\", \"subsample\" } are not used.\n",
            "\n",
            "[15:32:09] WARNING: ../src/learner.cc:767: \n",
            "Parameters: { \"colsample_bytree\", \"gamma\", \"max_depth\", \"min_child_weight\", \"subsample\" } are not used.\n",
            "\n",
            "[15:32:09] WARNING: ../src/learner.cc:767: \n",
            "Parameters: { \"colsample_bytree\", \"gamma\", \"max_depth\", \"min_child_weight\", \"subsample\" } are not used.\n",
            "\n",
            "[15:32:10] WARNING: ../src/learner.cc:767: \n",
            "Parameters: { \"colsample_bytree\", \"gamma\", \"max_depth\", \"min_child_weight\", \"subsample\" } are not used.\n",
            "\n",
            "[15:32:10] WARNING: ../src/learner.cc:767: \n",
            "Parameters: { \"colsample_bytree\", \"gamma\", \"max_depth\", \"min_child_weight\", \"subsample\" } are not used.\n",
            "\n",
            "[15:32:10] WARNING: ../src/learner.cc:767: \n",
            "Parameters: { \"colsample_bytree\", \"gamma\", \"max_depth\", \"min_child_weight\", \"subsample\" } are not used.\n",
            "\n",
            "[15:32:11] WARNING: ../src/learner.cc:767: \n",
            "Parameters: { \"colsample_bytree\", \"gamma\", \"max_depth\", \"min_child_weight\", \"subsample\" } are not used.\n",
            "\n",
            "[15:32:11] WARNING: ../src/learner.cc:767: \n",
            "Parameters: { \"colsample_bytree\", \"gamma\", \"max_depth\", \"min_child_weight\", \"subsample\" } are not used.\n",
            "\n",
            "[15:32:12] WARNING: ../src/learner.cc:767: \n",
            "Parameters: { \"colsample_bytree\", \"gamma\", \"max_depth\", \"min_child_weight\", \"subsample\" } are not used.\n",
            "\n",
            "[15:32:12] WARNING: ../src/learner.cc:767: \n",
            "Parameters: { \"colsample_bytree\", \"gamma\", \"max_depth\", \"min_child_weight\", \"subsample\" } are not used.\n",
            "\n",
            "[15:32:12] WARNING: ../src/learner.cc:767: \n",
            "Parameters: { \"colsample_bytree\", \"gamma\", \"max_depth\", \"min_child_weight\", \"subsample\" } are not used.\n",
            "\n",
            "[15:32:15] WARNING: ../src/learner.cc:767: \n",
            "Parameters: { \"colsample_bytree\", \"gamma\", \"max_depth\", \"min_child_weight\", \"subsample\" } are not used.\n",
            "\n",
            "[15:32:15] WARNING: ../src/learner.cc:767: \n",
            "Parameters: { \"colsample_bytree\", \"gamma\", \"max_depth\", \"min_child_weight\", \"subsample\" } are not used.\n",
            "\n",
            "[15:32:16] WARNING: ../src/learner.cc:767: \n",
            "Parameters: { \"colsample_bytree\", \"gamma\", \"max_depth\", \"min_child_weight\", \"subsample\" } are not used.\n",
            "\n",
            "[15:32:16] WARNING: ../src/learner.cc:767: \n",
            "Parameters: { \"colsample_bytree\", \"gamma\", \"max_depth\", \"min_child_weight\", \"subsample\" } are not used.\n",
            "\n",
            "[15:32:17] WARNING: ../src/learner.cc:767: \n",
            "Parameters: { \"colsample_bytree\", \"gamma\", \"max_depth\", \"min_child_weight\", \"subsample\" } are not used.\n",
            "\n",
            "[15:32:17] WARNING: ../src/learner.cc:767: \n",
            "Parameters: { \"colsample_bytree\", \"gamma\", \"max_depth\", \"min_child_weight\", \"subsample\" } are not used.\n",
            "\n",
            "[15:32:18] WARNING: ../src/learner.cc:767: \n",
            "Parameters: { \"colsample_bytree\", \"gamma\", \"max_depth\", \"min_child_weight\", \"subsample\" } are not used.\n",
            "\n",
            "[15:34:49] WARNING: ../src/learner.cc:767: \n",
            "Parameters: { \"colsample_bytree\", \"gamma\", \"max_depth\", \"min_child_weight\", \"subsample\" } are not used.\n",
            "\n",
            "[15:34:50] WARNING: ../src/learner.cc:767: \n",
            "Parameters: { \"colsample_bytree\", \"gamma\", \"max_depth\", \"min_child_weight\", \"subsample\" } are not used.\n",
            "\n",
            "[15:34:50] WARNING: ../src/learner.cc:767: \n",
            "Parameters: { \"colsample_bytree\", \"gamma\", \"max_depth\", \"min_child_weight\", \"subsample\" } are not used.\n",
            "\n",
            "[15:34:51] WARNING: ../src/learner.cc:767: \n",
            "Parameters: { \"colsample_bytree\", \"gamma\", \"max_depth\", \"min_child_weight\", \"subsample\" } are not used.\n",
            "\n",
            "[15:34:51] WARNING: ../src/learner.cc:767: \n",
            "Parameters: { \"colsample_bytree\", \"gamma\", \"max_depth\", \"min_child_weight\", \"subsample\" } are not used.\n",
            "\n",
            "[15:34:53] WARNING: ../src/learner.cc:767: \n",
            "Parameters: { \"colsample_bytree\", \"gamma\", \"max_depth\", \"min_child_weight\", \"subsample\" } are not used.\n",
            "\n",
            "[15:34:54] WARNING: ../src/learner.cc:767: \n",
            "Parameters: { \"colsample_bytree\", \"gamma\", \"max_depth\", \"min_child_weight\", \"subsample\" } are not used.\n",
            "\n",
            "[15:34:55] WARNING: ../src/learner.cc:767: \n",
            "Parameters: { \"colsample_bytree\", \"gamma\", \"max_depth\", \"min_child_weight\", \"subsample\" } are not used.\n",
            "\n",
            "[15:34:55] WARNING: ../src/learner.cc:767: \n",
            "Parameters: { \"colsample_bytree\", \"gamma\", \"max_depth\", \"min_child_weight\", \"subsample\" } are not used.\n",
            "\n",
            "[15:35:25] WARNING: ../src/learner.cc:767: \n",
            "Parameters: { \"colsample_bytree\", \"gamma\", \"max_depth\", \"min_child_weight\", \"subsample\" } are not used.\n",
            "\n",
            "[15:35:25] WARNING: ../src/learner.cc:767: \n",
            "Parameters: { \"colsample_bytree\", \"gamma\", \"max_depth\", \"min_child_weight\", \"subsample\" } are not used.\n",
            "\n",
            "[15:35:26] WARNING: ../src/learner.cc:767: \n",
            "Parameters: { \"colsample_bytree\", \"gamma\", \"max_depth\", \"min_child_weight\", \"subsample\" } are not used.\n",
            "\n",
            "[15:35:26] WARNING: ../src/learner.cc:767: \n",
            "Parameters: { \"colsample_bytree\", \"gamma\", \"max_depth\", \"min_child_weight\", \"subsample\" } are not used.\n",
            "\n",
            "[15:35:26] WARNING: ../src/learner.cc:767: \n",
            "Parameters: { \"colsample_bytree\", \"gamma\", \"max_depth\", \"min_child_weight\", \"subsample\" } are not used.\n",
            "\n",
            "[15:35:27] WARNING: ../src/learner.cc:767: \n",
            "Parameters: { \"colsample_bytree\", \"gamma\", \"max_depth\", \"min_child_weight\", \"subsample\" } are not used.\n",
            "\n",
            "[15:35:27] WARNING: ../src/learner.cc:767: \n",
            "Parameters: { \"colsample_bytree\", \"gamma\", \"max_depth\", \"min_child_weight\", \"subsample\" } are not used.\n",
            "\n",
            "[15:35:27] WARNING: ../src/learner.cc:767: \n",
            "Parameters: { \"colsample_bytree\", \"gamma\", \"max_depth\", \"min_child_weight\", \"subsample\" } are not used.\n",
            "\n",
            "[15:35:28] WARNING: ../src/learner.cc:767: \n",
            "Parameters: { \"colsample_bytree\", \"gamma\", \"max_depth\", \"min_child_weight\", \"subsample\" } are not used.\n",
            "\n",
            "[15:35:28] WARNING: ../src/learner.cc:767: \n",
            "Parameters: { \"colsample_bytree\", \"gamma\", \"max_depth\", \"min_child_weight\", \"subsample\" } are not used.\n",
            "\n",
            "[15:35:31] WARNING: ../src/learner.cc:767: \n",
            "Parameters: { \"colsample_bytree\", \"gamma\", \"max_depth\", \"min_child_weight\", \"subsample\" } are not used.\n",
            "\n",
            "[15:35:31] WARNING: ../src/learner.cc:767: \n",
            "Parameters: { \"colsample_bytree\", \"gamma\", \"max_depth\", \"min_child_weight\", \"subsample\" } are not used.\n",
            "\n",
            "[15:35:32] WARNING: ../src/learner.cc:767: \n",
            "Parameters: { \"colsample_bytree\", \"gamma\", \"max_depth\", \"min_child_weight\", \"subsample\" } are not used.\n",
            "\n",
            "[15:35:32] WARNING: ../src/learner.cc:767: \n",
            "Parameters: { \"colsample_bytree\", \"gamma\", \"max_depth\", \"min_child_weight\", \"subsample\" } are not used.\n",
            "\n",
            "[15:35:32] WARNING: ../src/learner.cc:767: \n",
            "Parameters: { \"colsample_bytree\", \"gamma\", \"max_depth\", \"min_child_weight\", \"subsample\" } are not used.\n",
            "\n",
            "[15:35:33] WARNING: ../src/learner.cc:767: \n",
            "Parameters: { \"colsample_bytree\", \"gamma\", \"max_depth\", \"min_child_weight\", \"subsample\" } are not used.\n",
            "\n",
            "[15:35:34] WARNING: ../src/learner.cc:767: \n",
            "Parameters: { \"colsample_bytree\", \"gamma\", \"max_depth\", \"min_child_weight\", \"subsample\" } are not used.\n",
            "\n",
            "[15:35:34] WARNING: ../src/learner.cc:767: \n",
            "Parameters: { \"colsample_bytree\", \"gamma\", \"max_depth\", \"min_child_weight\", \"subsample\" } are not used.\n",
            "\n",
            "[15:36:03] WARNING: ../src/learner.cc:767: \n",
            "Parameters: { \"colsample_bytree\", \"gamma\", \"max_depth\", \"min_child_weight\", \"subsample\" } are not used.\n",
            "\n",
            "[15:36:03] WARNING: ../src/learner.cc:767: \n",
            "Parameters: { \"colsample_bytree\", \"gamma\", \"max_depth\", \"min_child_weight\", \"subsample\" } are not used.\n",
            "\n",
            "[15:36:04] WARNING: ../src/learner.cc:767: \n",
            "Parameters: { \"colsample_bytree\", \"gamma\", \"max_depth\", \"min_child_weight\", \"subsample\" } are not used.\n",
            "\n",
            "[15:36:04] WARNING: ../src/learner.cc:767: \n",
            "Parameters: { \"colsample_bytree\", \"gamma\", \"max_depth\", \"min_child_weight\", \"subsample\" } are not used.\n",
            "\n",
            "[15:36:07] WARNING: ../src/learner.cc:767: \n",
            "Parameters: { \"colsample_bytree\", \"gamma\", \"max_depth\", \"min_child_weight\", \"subsample\" } are not used.\n",
            "\n",
            "[15:36:07] WARNING: ../src/learner.cc:767: \n",
            "Parameters: { \"colsample_bytree\", \"gamma\", \"max_depth\", \"min_child_weight\", \"subsample\" } are not used.\n",
            "\n",
            "[15:36:08] WARNING: ../src/learner.cc:767: \n",
            "Parameters: { \"colsample_bytree\", \"gamma\", \"max_depth\", \"min_child_weight\", \"subsample\" } are not used.\n",
            "\n",
            "[15:36:08] WARNING: ../src/learner.cc:767: \n",
            "Parameters: { \"colsample_bytree\", \"gamma\", \"max_depth\", \"min_child_weight\", \"subsample\" } are not used.\n",
            "\n",
            "[15:36:09] WARNING: ../src/learner.cc:767: \n",
            "Parameters: { \"colsample_bytree\", \"gamma\", \"max_depth\", \"min_child_weight\", \"subsample\" } are not used.\n",
            "\n",
            "[15:36:09] WARNING: ../src/learner.cc:767: \n",
            "Parameters: { \"colsample_bytree\", \"gamma\", \"max_depth\", \"min_child_weight\", \"subsample\" } are not used.\n",
            "\n",
            "[15:36:10] WARNING: ../src/learner.cc:767: \n",
            "Parameters: { \"colsample_bytree\", \"gamma\", \"max_depth\", \"min_child_weight\", \"subsample\" } are not used.\n",
            "\n",
            "[15:36:10] WARNING: ../src/learner.cc:767: \n",
            "Parameters: { \"colsample_bytree\", \"gamma\", \"max_depth\", \"min_child_weight\", \"subsample\" } are not used.\n",
            "\n",
            "[15:36:10] WARNING: ../src/learner.cc:767: \n",
            "Parameters: { \"colsample_bytree\", \"gamma\", \"max_depth\", \"min_child_weight\", \"subsample\" } are not used.\n",
            "\n",
            "[15:36:11] WARNING: ../src/learner.cc:767: \n",
            "Parameters: { \"colsample_bytree\", \"gamma\", \"max_depth\", \"min_child_weight\", \"subsample\" } are not used.\n",
            "\n",
            "[15:36:11] WARNING: ../src/learner.cc:767: \n",
            "Parameters: { \"colsample_bytree\", \"gamma\", \"max_depth\", \"min_child_weight\", \"subsample\" } are not used.\n",
            "\n",
            "[15:36:11] WARNING: ../src/learner.cc:767: \n",
            "Parameters: { \"colsample_bytree\", \"gamma\", \"max_depth\", \"min_child_weight\", \"subsample\" } are not used.\n",
            "\n",
            "[15:36:12] WARNING: ../src/learner.cc:767: \n",
            "Parameters: { \"colsample_bytree\", \"gamma\", \"max_depth\", \"min_child_weight\", \"subsample\" } are not used.\n",
            "\n",
            "[15:36:12] WARNING: ../src/learner.cc:767: \n",
            "Parameters: { \"colsample_bytree\", \"gamma\", \"max_depth\", \"min_child_weight\", \"subsample\" } are not used.\n",
            "\n",
            "RandomizedSearchCV took 692.99 seconds for 50 candidates parameter settings.\n"
          ]
        }
      ],
      "source": [
        "# A parameter grid for XGBoost\n",
        "params = {\n",
        "    'n_estimators':[500],\n",
        "    'min_child_weight':[4,5],\n",
        "    'gamma':[i/10.0 for i in range(3,6)],\n",
        "    'subsample':[i/10.0 for i in range(6,11)],\n",
        "    'colsample_bytree':[i/10.0 for i in range(6,11)],\n",
        "    'max_depth': [2,3,4,6,7],\n",
        "    'objective': ['reg:squarederror', 'reg:tweedie'],\n",
        "    'booster': ['gbtree', 'gblinear'],\n",
        "    'eval_metric': ['rmse'],\n",
        "    'eta': [i/10.0 for i in range(3,6)],\n",
        "}\n",
        "\n",
        "reg = XGBRegressor(nthread=-1)\n",
        "\n",
        "# run randomized search\n",
        "n_iter_search = 50\n",
        "random_search = RandomizedSearchCV(reg, param_distributions=params,\n",
        "                                   n_iter=n_iter_search, cv=9, scoring='neg_mean_squared_error')\n",
        "\n",
        "start = time.time()\n",
        "random_search.fit(X_train, Y_train)\n",
        "print(\"RandomizedSearchCV took %.2f seconds for %d candidates\"\n",
        "      \" parameter settings.\" % ((time.time() - start), n_iter_search))"
      ]
    },
    {
      "cell_type": "code",
      "execution_count": 52,
      "metadata": {
        "id": "HEGY5XTOf2du"
      },
      "outputs": [],
      "source": [
        "best_regressor = random_search.best_estimator_"
      ]
    },
    {
      "cell_type": "code",
      "execution_count": 53,
      "metadata": {
        "colab": {
          "base_uri": "https://localhost:8080/"
        },
        "id": "HaR_vbx9f2nf",
        "outputId": "1ebaaf2f-d810-4916-f399-753dd282a5e6"
      },
      "outputs": [
        {
          "name": "stdout",
          "output_type": "stream",
          "text": [
            "XGBRegressor(base_score=None, booster='gbtree', callbacks=None,\n",
            "             colsample_bylevel=None, colsample_bynode=None,\n",
            "             colsample_bytree=0.8, early_stopping_rounds=None,\n",
            "             enable_categorical=False, eta=0.3, eval_metric='rmse',\n",
            "             feature_types=None, gamma=0.4, gpu_id=None, grow_policy=None,\n",
            "             importance_type=None, interaction_constraints=None,\n",
            "             learning_rate=None, max_bin=None, max_cat_threshold=None,\n",
            "             max_cat_to_onehot=None, max_delta_step=None, max_depth=6,\n",
            "             max_leaves=None, min_child_weight=5, missing=nan,\n",
            "             monotone_constraints=None, n_estimators=500, n_jobs=None,\n",
            "             nthread=-1, num_parallel_tree=None, ...)\n"
          ]
        }
      ],
      "source": [
        "print(best_regressor)"
      ]
    },
    {
      "cell_type": "code",
      "execution_count": 54,
      "metadata": {
        "id": "6UhoYAb4gEkr"
      },
      "outputs": [],
      "source": [
        "y_pred_rmse=best_regressor.predict(X_test)"
      ]
    },
    {
      "cell_type": "code",
      "execution_count": 55,
      "metadata": {
        "colab": {
          "base_uri": "https://localhost:8080/"
        },
        "id": "ftlXVOU6gIZQ",
        "outputId": "eefec63d-ca6f-460d-fe8d-84d0e327c74f"
      },
      "outputs": [
        {
          "name": "stdout",
          "output_type": "stream",
          "text": [
            "Mean Squarred Error :  870317.06\n",
            "Mean Absolute Error :  447.44952\n",
            "Mean Absolute Percentage Error :  4842875717007496.0\n"
          ]
        }
      ],
      "source": [
        "print(\"Mean Squarred Error : \",mean_squared_error(Y_test,y_pred_rmse))\n",
        "print(\"Mean Absolute Error : \",mean_absolute_error(Y_test,y_pred_rmse))\n",
        "print(\"Mean Absolute Percentage Error : \",mean_absolute_percentage_error(Y_test,y_pred_rmse))"
      ]
    },
    {
      "cell_type": "code",
      "execution_count": 56,
      "metadata": {
        "colab": {
          "base_uri": "https://localhost:8080/"
        },
        "id": "-LYzSqfTgm8N",
        "outputId": "f85f2e93-188f-4f84-a851-f38d7d51e2f1"
      },
      "outputs": [
        {
          "name": "stdout",
          "output_type": "stream",
          "text": [
            "R2 Score :  0.7612333615378575\n"
          ]
        }
      ],
      "source": [
        "print(\"R2 Score : \",r2_score(Y_test,y_pred_rmse))"
      ]
    },
    {
      "cell_type": "code",
      "execution_count": 57,
      "metadata": {
        "id": "QOGtnEYvgszz"
      },
      "outputs": [],
      "source": [
        "y_pred_rmse = pd.DataFrame(y_pred_rmse)"
      ]
    },
    {
      "cell_type": "code",
      "execution_count": 58,
      "metadata": {
        "id": "sRBeJYD1mt2W"
      },
      "outputs": [],
      "source": [
        "y_pred_rmse.rename(columns = {0:\"Predict\"}, inplace=True)"
      ]
    },
    {
      "cell_type": "code",
      "execution_count": 59,
      "metadata": {
        "colab": {
          "base_uri": "https://localhost:8080/"
        },
        "id": "H9p3em_ymuC9",
        "outputId": "a39c8081-d189-470e-bcdc-fbca3e59fd26"
      },
      "outputs": [
        {
          "name": "stdout",
          "output_type": "stream",
          "text": [
            "Index(['Predict'], dtype='object')\n",
            "Index(['customerID', 'gender', 'SeniorCitizen', 'Partner', 'Dependents',\n",
            "       'tenure', 'PhoneService', 'MultipleLines', 'InternetService',\n",
            "       'OnlineSecurity', 'OnlineBackup', 'DeviceProtection', 'TechSupport',\n",
            "       'StreamingTV', 'StreamingMovies', 'Contract', 'PaperlessBilling',\n",
            "       'PaymentMethod', 'MonthlyCharges', 'Churn'],\n",
            "      dtype='object')\n"
          ]
        }
      ],
      "source": [
        "print(y_pred_rmse.columns)\n",
        "print(X_test.columns)"
      ]
    },
    {
      "cell_type": "code",
      "execution_count": 60,
      "metadata": {
        "id": "Mz0vtbXTqljp"
      },
      "outputs": [],
      "source": [
        "newdf = X_test.join(y_pred_rmse)"
      ]
    },
    {
      "cell_type": "code",
      "execution_count": 61,
      "metadata": {
        "colab": {
          "base_uri": "https://localhost:8080/"
        },
        "id": "OT2BtQ1Uqn2W",
        "outputId": "cec9d431-2318-4698-ce75-f55fc141dbe6"
      },
      "outputs": [
        {
          "data": {
            "text/plain": [
              "Index(['customerID', 'gender', 'SeniorCitizen', 'Partner', 'Dependents',\n",
              "       'tenure', 'PhoneService', 'MultipleLines', 'InternetService',\n",
              "       'OnlineSecurity', 'OnlineBackup', 'DeviceProtection', 'TechSupport',\n",
              "       'StreamingTV', 'StreamingMovies', 'Contract', 'PaperlessBilling',\n",
              "       'PaymentMethod', 'MonthlyCharges', 'Churn', 'Predict'],\n",
              "      dtype='object')"
            ]
          },
          "execution_count": 61,
          "metadata": {},
          "output_type": "execute_result"
        }
      ],
      "source": [
        "newdf.columns"
      ]
    },
    {
      "cell_type": "code",
      "execution_count": 62,
      "metadata": {
        "id": "h2aTborpq4XX"
      },
      "outputs": [],
      "source": [
        "newdf.to_csv(\"predict.csv\")"
      ]
    },
    {
      "cell_type": "code",
      "execution_count": null,
      "metadata": {
        "id": "fc3ALxmi0-vv"
      },
      "outputs": [],
      "source": []
    }
  ],
  "metadata": {
    "accelerator": "GPU",
    "colab": {
      "gpuType": "T4",
      "provenance": []
    },
    "kernelspec": {
      "display_name": "Python 3",
      "name": "python3"
    },
    "language_info": {
      "name": "python"
    }
  },
  "nbformat": 4,
  "nbformat_minor": 0
}
